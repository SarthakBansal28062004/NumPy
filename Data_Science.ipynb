{
 "cells": [
  {
   "cell_type": "markdown",
   "id": "fa917a69-30df-40c4-85e7-a3c84dc0ed02",
   "metadata": {
    "jp-MarkdownHeadingCollapsed": true
   },
   "source": [
    "# Notes"
   ]
  },
  {
   "cell_type": "code",
   "execution_count": 1,
   "id": "39f6b280-22b3-4789-b508-a01c862f8200",
   "metadata": {},
   "outputs": [],
   "source": [
    "# Import NumPy Library in Jupyter Notebook\n",
    "import numpy as np"
   ]
  },
  {
   "cell_type": "code",
   "execution_count": 2,
   "id": "5f3fc1da-9bd7-43c7-b55d-df3229ceab24",
   "metadata": {},
   "outputs": [],
   "source": [
    "# Array Declaration\n",
    "a = np.array([1,2,3], dtype='int16')"
   ]
  },
  {
   "cell_type": "code",
   "execution_count": 21,
   "id": "26086d4e-8c03-461d-bd82-6ee98848fc69",
   "metadata": {},
   "outputs": [
    {
     "name": "stdout",
     "output_type": "stream",
     "text": [
      "[1 2 3]\n"
     ]
    }
   ],
   "source": [
    "# Print Array\n",
    "print(a)"
   ]
  },
  {
   "cell_type": "code",
   "execution_count": 3,
   "id": "6373b80e-ef46-4345-a0b2-0234679120c1",
   "metadata": {},
   "outputs": [
    {
     "name": "stdout",
     "output_type": "stream",
     "text": [
      "[[1.2 4.5 6.7]\n",
      " [3.5 8.9 6.3]]\n"
     ]
    }
   ],
   "source": [
    "# Declaring 2D Array and printing it\n",
    "b = np.array([[1.2,4.5,6.7],[3.5,8.9,6.3]])\n",
    "print(b)"
   ]
  },
  {
   "cell_type": "code",
   "execution_count": 23,
   "id": "6cadc0c9-bedf-4e7b-969b-77be1d8c17bf",
   "metadata": {},
   "outputs": [
    {
     "data": {
      "text/plain": [
       "1"
      ]
     },
     "execution_count": 23,
     "metadata": {},
     "output_type": "execute_result"
    }
   ],
   "source": [
    "# Get dimension\n",
    "a.ndim"
   ]
  },
  {
   "cell_type": "code",
   "execution_count": 6,
   "id": "cd722b3a-8a33-42c6-882d-708cb0e5c874",
   "metadata": {},
   "outputs": [
    {
     "data": {
      "text/plain": [
       "2"
      ]
     },
     "execution_count": 6,
     "metadata": {},
     "output_type": "execute_result"
    }
   ],
   "source": [
    "b.ndim"
   ]
  },
  {
   "cell_type": "code",
   "execution_count": 24,
   "id": "3e65f135-d3c6-40cf-9311-876c09e71012",
   "metadata": {},
   "outputs": [
    {
     "data": {
      "text/plain": [
       "(3,)"
      ]
     },
     "execution_count": 24,
     "metadata": {},
     "output_type": "execute_result"
    }
   ],
   "source": [
    "# Get Shape\n",
    "a.shape"
   ]
  },
  {
   "cell_type": "code",
   "execution_count": 8,
   "id": "d1c57943-583c-4400-b2e5-1457a125c9a2",
   "metadata": {},
   "outputs": [
    {
     "data": {
      "text/plain": [
       "(2, 3)"
      ]
     },
     "execution_count": 8,
     "metadata": {},
     "output_type": "execute_result"
    }
   ],
   "source": [
    "b.shape"
   ]
  },
  {
   "cell_type": "code",
   "execution_count": 25,
   "id": "f70d885c-d792-4ea3-a5bb-dac8b9e42662",
   "metadata": {},
   "outputs": [
    {
     "data": {
      "text/plain": [
       "dtype('int16')"
      ]
     },
     "execution_count": 25,
     "metadata": {},
     "output_type": "execute_result"
    }
   ],
   "source": [
    "# Get Data Type\n",
    "a.dtype"
   ]
  },
  {
   "cell_type": "code",
   "execution_count": 10,
   "id": "e7a437fa-9327-4317-bf52-56e528e42777",
   "metadata": {},
   "outputs": [
    {
     "data": {
      "text/plain": [
       "dtype('float64')"
      ]
     },
     "execution_count": 10,
     "metadata": {},
     "output_type": "execute_result"
    }
   ],
   "source": [
    "b.dtype"
   ]
  },
  {
   "cell_type": "code",
   "execution_count": 26,
   "id": "1ceea930-da7e-4b83-8a12-b6d0cd689594",
   "metadata": {},
   "outputs": [
    {
     "data": {
      "text/plain": [
       "2"
      ]
     },
     "execution_count": 26,
     "metadata": {},
     "output_type": "execute_result"
    }
   ],
   "source": [
    "# Get Item Size\n",
    "a.itemsize"
   ]
  },
  {
   "cell_type": "code",
   "execution_count": 14,
   "id": "1546c1aa-414e-4254-b801-a6d09baa58e0",
   "metadata": {},
   "outputs": [
    {
     "data": {
      "text/plain": [
       "8"
      ]
     },
     "execution_count": 14,
     "metadata": {},
     "output_type": "execute_result"
    }
   ],
   "source": [
    "b.itemsize"
   ]
  },
  {
   "cell_type": "code",
   "execution_count": 27,
   "id": "017a6eb4-0200-4675-b36f-f258fa3c99ee",
   "metadata": {},
   "outputs": [
    {
     "data": {
      "text/plain": [
       "3"
      ]
     },
     "execution_count": 27,
     "metadata": {},
     "output_type": "execute_result"
    }
   ],
   "source": [
    "# Get Size\n",
    "a.size"
   ]
  },
  {
   "cell_type": "code",
   "execution_count": 17,
   "id": "a055868b-0a45-4ff9-bfa9-05ee01756d5b",
   "metadata": {},
   "outputs": [
    {
     "data": {
      "text/plain": [
       "6"
      ]
     },
     "execution_count": 17,
     "metadata": {},
     "output_type": "execute_result"
    }
   ],
   "source": [
    "b.size"
   ]
  },
  {
   "cell_type": "code",
   "execution_count": 28,
   "id": "adf8511e-44cb-4230-a479-4d8018f79fdd",
   "metadata": {},
   "outputs": [
    {
     "data": {
      "text/plain": [
       "6"
      ]
     },
     "execution_count": 28,
     "metadata": {},
     "output_type": "execute_result"
    }
   ],
   "source": [
    "# Get Total Size = Size * Item Size (In Bytes)\n",
    "a.size * a.itemsize"
   ]
  },
  {
   "cell_type": "code",
   "execution_count": 19,
   "id": "0d4fd1a8-b686-4a5e-a436-4fb35aaa7d76",
   "metadata": {},
   "outputs": [
    {
     "data": {
      "text/plain": [
       "48"
      ]
     },
     "execution_count": 19,
     "metadata": {},
     "output_type": "execute_result"
    }
   ],
   "source": [
    "b.size * b.itemsize"
   ]
  },
  {
   "cell_type": "code",
   "execution_count": 30,
   "id": "3a9656d2-5a75-45cb-92ec-1a20301df422",
   "metadata": {},
   "outputs": [
    {
     "data": {
      "text/plain": [
       "6"
      ]
     },
     "execution_count": 30,
     "metadata": {},
     "output_type": "execute_result"
    }
   ],
   "source": [
    "# Get Total Size (Method 2)\n",
    "a.nbytes"
   ]
  },
  {
   "cell_type": "code",
   "execution_count": 31,
   "id": "4fcf413f-c305-464f-9e37-c21e5e1a7b60",
   "metadata": {},
   "outputs": [
    {
     "data": {
      "text/plain": [
       "48"
      ]
     },
     "execution_count": 31,
     "metadata": {},
     "output_type": "execute_result"
    }
   ],
   "source": [
    "b.nbytes"
   ]
  },
  {
   "cell_type": "code",
   "execution_count": 32,
   "id": "ed91cee8-535c-4b48-8bcd-feebd807754e",
   "metadata": {},
   "outputs": [
    {
     "data": {
      "text/plain": [
       "np.float64(6.3)"
      ]
     },
     "execution_count": 32,
     "metadata": {},
     "output_type": "execute_result"
    }
   ],
   "source": [
    "# Get specific element using [row, column]\n",
    "b[1,2]"
   ]
  },
  {
   "cell_type": "code",
   "execution_count": 34,
   "id": "96002b87-c5cc-4578-9a36-b7a956c632f8",
   "metadata": {},
   "outputs": [
    {
     "data": {
      "text/plain": [
       "np.float64(6.3)"
      ]
     },
     "execution_count": 34,
     "metadata": {},
     "output_type": "execute_result"
    }
   ],
   "source": [
    "# Using Negative Notation Just Like Lists\n",
    "b[1,-1]"
   ]
  },
  {
   "cell_type": "code",
   "execution_count": 35,
   "id": "b4843036-4e57-4de4-bb91-5a883c7b3739",
   "metadata": {},
   "outputs": [
    {
     "data": {
      "text/plain": [
       "array([1.2, 4.5, 6.7])"
      ]
     },
     "execution_count": 35,
     "metadata": {},
     "output_type": "execute_result"
    }
   ],
   "source": [
    "# Get a specific row\n",
    "b[0,:]"
   ]
  },
  {
   "cell_type": "code",
   "execution_count": 36,
   "id": "6cee495f-1a5c-4eef-8231-61ac6c36380d",
   "metadata": {},
   "outputs": [
    {
     "data": {
      "text/plain": [
       "array([4.5, 8.9])"
      ]
     },
     "execution_count": 36,
     "metadata": {},
     "output_type": "execute_result"
    }
   ],
   "source": [
    "# Get a specific column\n",
    "b[:,1]"
   ]
  },
  {
   "cell_type": "code",
   "execution_count": 40,
   "id": "044e62f4-0db6-471f-a325-88047abc3cac",
   "metadata": {},
   "outputs": [
    {
     "data": {
      "text/plain": [
       "array([1.2, 6.7])"
      ]
     },
     "execution_count": 40,
     "metadata": {},
     "output_type": "execute_result"
    }
   ],
   "source": [
    "# Get a specific range of elements using [start_index: end_index: step_size]\n",
    "b[0, 0:3:2]"
   ]
  },
  {
   "cell_type": "code",
   "execution_count": 41,
   "id": "a8d25003-a54c-4ad0-b850-964f6f479648",
   "metadata": {},
   "outputs": [],
   "source": [
    "# Change specific element\n",
    "b[0,2] = 10.1"
   ]
  },
  {
   "cell_type": "code",
   "execution_count": 42,
   "id": "2bfc78db-8875-4004-b95f-092d82bc6ee9",
   "metadata": {},
   "outputs": [
    {
     "name": "stdout",
     "output_type": "stream",
     "text": [
      "[[ 1.2  4.5 10.1]\n",
      " [ 3.5  8.9  6.3]]\n"
     ]
    }
   ],
   "source": [
    "print(b)"
   ]
  },
  {
   "cell_type": "code",
   "execution_count": 45,
   "id": "ca759ee5-f34e-474d-b1b6-be85d9abd797",
   "metadata": {},
   "outputs": [],
   "source": [
    "# Change 2 elements simultaneously\n",
    "b[:, 1] = [3.4, 6.1]"
   ]
  },
  {
   "cell_type": "code",
   "execution_count": 46,
   "id": "e5aceea1-5f26-4029-9d1c-2af4576329d4",
   "metadata": {},
   "outputs": [
    {
     "name": "stdout",
     "output_type": "stream",
     "text": [
      "[[ 1.2  3.4 10.1]\n",
      " [ 3.5  6.1  6.3]]\n"
     ]
    }
   ],
   "source": [
    "print(b)"
   ]
  },
  {
   "cell_type": "code",
   "execution_count": 47,
   "id": "0e3531df-63d1-4bc5-8172-8ad79947c70c",
   "metadata": {},
   "outputs": [],
   "source": [
    "b[1,:] = [1.2,2.3,3.4]"
   ]
  },
  {
   "cell_type": "code",
   "execution_count": 48,
   "id": "225d3297-360c-43e0-b4fc-23d5c00ee534",
   "metadata": {},
   "outputs": [
    {
     "name": "stdout",
     "output_type": "stream",
     "text": [
      "[[ 1.2  3.4 10.1]\n",
      " [ 1.2  2.3  3.4]]\n"
     ]
    }
   ],
   "source": [
    "print(b)"
   ]
  },
  {
   "cell_type": "code",
   "execution_count": 4,
   "id": "ac9c87cf-cbef-4748-87a0-ef8b729bf895",
   "metadata": {},
   "outputs": [],
   "source": [
    "# 3D Array example\n",
    "c = np.array([[[1,2,3],[4,5,6]],[[7,8,9],[10,11,12]]])"
   ]
  },
  {
   "cell_type": "code",
   "execution_count": 51,
   "id": "3ae5d033-b3f8-46e3-8641-7ae3aed35e29",
   "metadata": {},
   "outputs": [
    {
     "name": "stdout",
     "output_type": "stream",
     "text": [
      "[[[ 1  2  3]\n",
      "  [ 4  5  6]]\n",
      "\n",
      " [[ 7  8  9]\n",
      "  [10 11 12]]]\n"
     ]
    }
   ],
   "source": [
    "print(c)"
   ]
  },
  {
   "cell_type": "code",
   "execution_count": 55,
   "id": "a3b996fb-27b8-41f8-aa1a-923efa2e6968",
   "metadata": {},
   "outputs": [
    {
     "data": {
      "text/plain": [
       "np.int64(8)"
      ]
     },
     "execution_count": 55,
     "metadata": {},
     "output_type": "execute_result"
    }
   ],
   "source": [
    "# Get specific element in 3D Array\n",
    "c[1,0,1]"
   ]
  },
  {
   "cell_type": "code",
   "execution_count": 56,
   "id": "29f69309-56a5-4387-b0cf-b91bc894b1d4",
   "metadata": {},
   "outputs": [],
   "source": [
    "c[1,1,2] = 20"
   ]
  },
  {
   "cell_type": "code",
   "execution_count": 57,
   "id": "1cf4518f-790f-4416-bdfe-f53f68736230",
   "metadata": {},
   "outputs": [
    {
     "name": "stdout",
     "output_type": "stream",
     "text": [
      "[[[ 1  2  3]\n",
      "  [ 4  5  6]]\n",
      "\n",
      " [[ 7  8  9]\n",
      "  [10 11 20]]]\n"
     ]
    }
   ],
   "source": [
    "print(c)"
   ]
  },
  {
   "cell_type": "code",
   "execution_count": 63,
   "id": "9f828da7-0d9a-4dbc-8584-49ae62904785",
   "metadata": {},
   "outputs": [
    {
     "data": {
      "text/plain": [
       "array([7, 8, 9])"
      ]
     },
     "execution_count": 63,
     "metadata": {},
     "output_type": "execute_result"
    }
   ],
   "source": [
    "# Get Specific Row\n",
    "c[1,0,:]"
   ]
  },
  {
   "cell_type": "code",
   "execution_count": 64,
   "id": "4be8e7d1-97eb-4e56-ba5d-9571e2fa7ce2",
   "metadata": {},
   "outputs": [
    {
     "data": {
      "text/plain": [
       "array([[ 2,  5],\n",
       "       [ 8, 11]])"
      ]
     },
     "execution_count": 64,
     "metadata": {},
     "output_type": "execute_result"
    }
   ],
   "source": [
    "# Get Specific Column\n",
    "c[:,:,1]"
   ]
  },
  {
   "cell_type": "code",
   "execution_count": 65,
   "id": "d98ea78c-66c1-4c90-b493-fc1e1f3db97c",
   "metadata": {},
   "outputs": [],
   "source": [
    "# Change a specific row/column\n",
    "c[:,:,1] = [[9,9],[9,9]]"
   ]
  },
  {
   "cell_type": "code",
   "execution_count": 66,
   "id": "e6138006-b30b-44b7-b720-1f1382532f32",
   "metadata": {},
   "outputs": [
    {
     "name": "stdout",
     "output_type": "stream",
     "text": [
      "[[[ 1  9  3]\n",
      "  [ 4  9  6]]\n",
      "\n",
      " [[ 7  9  9]\n",
      "  [10  9 20]]]\n"
     ]
    }
   ],
   "source": [
    "print(c)"
   ]
  },
  {
   "cell_type": "code",
   "execution_count": 5,
   "id": "54858e87-7508-419c-8478-9fb1919523c3",
   "metadata": {},
   "outputs": [
    {
     "data": {
      "text/plain": [
       "array([[0., 0., 0.],\n",
       "       [0., 0., 0.]])"
      ]
     },
     "execution_count": 5,
     "metadata": {},
     "output_type": "execute_result"
    }
   ],
   "source": [
    "# All Zeroes matrix\n",
    "np.zeros((2,3))"
   ]
  },
  {
   "cell_type": "code",
   "execution_count": 7,
   "id": "db0d6a9a-c4ba-4040-8b4b-9e1882ef4c7b",
   "metadata": {},
   "outputs": [
    {
     "data": {
      "text/plain": [
       "array([[[0.],\n",
       "        [0.]],\n",
       "\n",
       "       [[0.],\n",
       "        [0.]]])"
      ]
     },
     "execution_count": 7,
     "metadata": {},
     "output_type": "execute_result"
    }
   ],
   "source": [
    "np.zeros((2,2,1))"
   ]
  },
  {
   "cell_type": "code",
   "execution_count": 9,
   "id": "c8bb88b1-385d-44cb-bd79-2bb7ce63b288",
   "metadata": {},
   "outputs": [
    {
     "data": {
      "text/plain": [
       "array([[[1],\n",
       "        [1]],\n",
       "\n",
       "       [[1],\n",
       "        [1]]], dtype=int16)"
      ]
     },
     "execution_count": 9,
     "metadata": {},
     "output_type": "execute_result"
    }
   ],
   "source": [
    "# All Ones Matrix\n",
    "np.ones((2,2,1), dtype='int16')"
   ]
  },
  {
   "cell_type": "code",
   "execution_count": 11,
   "id": "a8c0f65b-9af5-429b-8401-e87957e739b4",
   "metadata": {},
   "outputs": [
    {
     "data": {
      "text/plain": [
       "array([[67., 67., 67.],\n",
       "       [67., 67., 67.]], dtype=float32)"
      ]
     },
     "execution_count": 11,
     "metadata": {},
     "output_type": "execute_result"
    }
   ],
   "source": [
    "# Other than 1 and 0-based matrix\n",
    "np.full((2,3), 67, dtype='float32')"
   ]
  },
  {
   "cell_type": "code",
   "execution_count": 12,
   "id": "dbbcea6c-22fa-455f-a9a3-c21e339111d6",
   "metadata": {},
   "outputs": [
    {
     "data": {
      "text/plain": [
       "array([3, 3, 3], dtype=int16)"
      ]
     },
     "execution_count": 12,
     "metadata": {},
     "output_type": "execute_result"
    }
   ],
   "source": [
    "# Full Like matrix\n",
    "np.full_like((a), 3)"
   ]
  },
  {
   "cell_type": "code",
   "execution_count": 15,
   "id": "7f12f9a6-31fc-4690-b1f9-7400d435565d",
   "metadata": {},
   "outputs": [
    {
     "data": {
      "text/plain": [
       "array([3, 3, 3])"
      ]
     },
     "execution_count": 15,
     "metadata": {},
     "output_type": "execute_result"
    }
   ],
   "source": [
    "# Doing the same but using full function\n",
    "np.full((a.shape), 3)"
   ]
  },
  {
   "cell_type": "code",
   "execution_count": 16,
   "id": "6fbcf491-e749-4276-a986-b1687b1ed46b",
   "metadata": {},
   "outputs": [
    {
     "data": {
      "text/plain": [
       "array([[0.20886915, 0.62561237, 0.13881848, 0.39852082, 0.68531027],\n",
       "       [0.39133506, 0.8649771 , 0.05165131, 0.26379598, 0.92523367],\n",
       "       [0.27786012, 0.19485017, 0.39802556, 0.63051763, 0.39495836]])"
      ]
     },
     "execution_count": 16,
     "metadata": {},
     "output_type": "execute_result"
    }
   ],
   "source": [
    "# Random decimal numbers in a matrix\n",
    "np.random.rand(3,5)"
   ]
  },
  {
   "cell_type": "code",
   "execution_count": 23,
   "id": "64167d5e-a444-49ab-857c-c221a9d307ca",
   "metadata": {},
   "outputs": [
    {
     "data": {
      "text/plain": [
       "array([[ 1,  8, 25, 29],\n",
       "       [22,  2, 20,  7]])"
      ]
     },
     "execution_count": 23,
     "metadata": {},
     "output_type": "execute_result"
    }
   ],
   "source": [
    "# Random integer numbers in a matrix\n",
    "np.random.randint(32, size=(2,4))"
   ]
  },
  {
   "cell_type": "code",
   "execution_count": 25,
   "id": "6b546588-e19e-4751-a619-c2fca6d68b75",
   "metadata": {},
   "outputs": [
    {
     "data": {
      "text/plain": [
       "array([[24, 20, 20, 22],\n",
       "       [21, 22, 21, 22]])"
      ]
     },
     "execution_count": 25,
     "metadata": {},
     "output_type": "execute_result"
    }
   ],
   "source": [
    "# Random integer numbers in a matrix in a range (Note - can also use negative values)\n",
    "np.random.randint(20,25, size=(2,4))"
   ]
  },
  {
   "cell_type": "code",
   "execution_count": 29,
   "id": "43ceb5d1-5cd0-4cdf-977d-857997627365",
   "metadata": {},
   "outputs": [
    {
     "data": {
      "text/plain": [
       "array([[1., 0., 0., 0.],\n",
       "       [0., 1., 0., 0.],\n",
       "       [0., 0., 1., 0.],\n",
       "       [0., 0., 0., 1.]])"
      ]
     },
     "execution_count": 29,
     "metadata": {},
     "output_type": "execute_result"
    }
   ],
   "source": [
    "# To create an identity matrix\n",
    "np.identity(4)"
   ]
  },
  {
   "cell_type": "code",
   "execution_count": 33,
   "id": "d0b72cfc-07d8-49db-9840-343205444d5f",
   "metadata": {},
   "outputs": [],
   "source": [
    "# Repeating previous arrays to create a new array by repeating each element simultaneously\n",
    "arr = np.array([1,2,3,4,5,6,7,8,9,10])"
   ]
  },
  {
   "cell_type": "code",
   "execution_count": 34,
   "id": "41bec6e5-9ba2-4187-9088-3b904f4dffb0",
   "metadata": {},
   "outputs": [],
   "source": [
    "repeat = np.repeat(arr, 3)"
   ]
  },
  {
   "cell_type": "code",
   "execution_count": 35,
   "id": "6285d6e7-7480-4e04-818c-147f4a3b9194",
   "metadata": {},
   "outputs": [
    {
     "data": {
      "text/plain": [
       "array([ 1,  1,  1,  2,  2,  2,  3,  3,  3,  4,  4,  4,  5,  5,  5,  6,  6,\n",
       "        6,  7,  7,  7,  8,  8,  8,  9,  9,  9, 10, 10, 10])"
      ]
     },
     "execution_count": 35,
     "metadata": {},
     "output_type": "execute_result"
    }
   ],
   "source": [
    "repeat"
   ]
  },
  {
   "cell_type": "code",
   "execution_count": 36,
   "id": "87669d85-af71-4fe3-a199-b2d88774312f",
   "metadata": {},
   "outputs": [],
   "source": [
    "arr2 = np.array([[1,2,3,4,5,6]])"
   ]
  },
  {
   "cell_type": "code",
   "execution_count": 39,
   "id": "68069171-0fce-4a11-9af2-91c4575ee321",
   "metadata": {},
   "outputs": [],
   "source": [
    "# Repeating the rows\n",
    "repeat2 = np.repeat(arr2, 3, axis = 0)"
   ]
  },
  {
   "cell_type": "code",
   "execution_count": 40,
   "id": "227617a1-f93d-4ac2-a60b-56b48cca7b61",
   "metadata": {},
   "outputs": [
    {
     "name": "stdout",
     "output_type": "stream",
     "text": [
      "[[1 2 3 4 5 6]\n",
      " [1 2 3 4 5 6]\n",
      " [1 2 3 4 5 6]]\n"
     ]
    }
   ],
   "source": [
    "print(repeat2)"
   ]
  },
  {
   "cell_type": "code",
   "execution_count": 41,
   "id": "17ac4697-9550-4d54-8153-1b79bc1bc374",
   "metadata": {},
   "outputs": [
    {
     "name": "stdout",
     "output_type": "stream",
     "text": [
      "[[1. 1. 1. 1. 1.]\n",
      " [1. 1. 1. 1. 1.]\n",
      " [1. 1. 1. 1. 1.]\n",
      " [1. 1. 1. 1. 1.]\n",
      " [1. 1. 1. 1. 1.]]\n"
     ]
    }
   ],
   "source": [
    "output = np.ones((5,5))\n",
    "print(output)"
   ]
  },
  {
   "cell_type": "code",
   "execution_count": 42,
   "id": "8a9f7081-c46f-45d7-bced-79da34b63b19",
   "metadata": {},
   "outputs": [
    {
     "name": "stdout",
     "output_type": "stream",
     "text": [
      "[[0. 0. 0.]\n",
      " [0. 0. 0.]\n",
      " [0. 0. 0.]]\n"
     ]
    }
   ],
   "source": [
    "z = np.zeros((3,3))\n",
    "print(z)"
   ]
  },
  {
   "cell_type": "code",
   "execution_count": 43,
   "id": "5080f839-c52d-41f9-bfad-f605c7d4bd23",
   "metadata": {},
   "outputs": [],
   "source": [
    "z[1,1] = 9"
   ]
  },
  {
   "cell_type": "code",
   "execution_count": 44,
   "id": "e99485a5-c933-4f83-b9fd-fe328ae5041d",
   "metadata": {},
   "outputs": [],
   "source": [
    "output[1:4,1:4] = z"
   ]
  },
  {
   "cell_type": "code",
   "execution_count": 45,
   "id": "f009fdb0-36a1-4cd5-bc30-f3c5fc797d61",
   "metadata": {},
   "outputs": [
    {
     "data": {
      "text/plain": [
       "array([[1., 1., 1., 1., 1.],\n",
       "       [1., 0., 0., 0., 1.],\n",
       "       [1., 0., 9., 0., 1.],\n",
       "       [1., 0., 0., 0., 1.],\n",
       "       [1., 1., 1., 1., 1.]])"
      ]
     },
     "execution_count": 45,
     "metadata": {},
     "output_type": "execute_result"
    }
   ],
   "source": [
    "output"
   ]
  },
  {
   "cell_type": "code",
   "execution_count": 46,
   "id": "c0b8d4b9-0db4-4a14-8ac6-7faf795c90f5",
   "metadata": {},
   "outputs": [],
   "source": [
    "# Copying one array to other\n",
    "copy = np.copy(arr)"
   ]
  },
  {
   "cell_type": "code",
   "execution_count": 47,
   "id": "7c8dbf53-3f3d-4519-81d3-1cc7a427cb8d",
   "metadata": {},
   "outputs": [
    {
     "data": {
      "text/plain": [
       "array([ 1,  2,  3,  4,  5,  6,  7,  8,  9, 10])"
      ]
     },
     "execution_count": 47,
     "metadata": {},
     "output_type": "execute_result"
    }
   ],
   "source": [
    "copy"
   ]
  },
  {
   "cell_type": "code",
   "execution_count": 48,
   "id": "2458cf00-5e5e-417b-88bb-3717eb6b8452",
   "metadata": {},
   "outputs": [],
   "source": [
    "copy[3] = 111"
   ]
  },
  {
   "cell_type": "code",
   "execution_count": 49,
   "id": "5d17861b-0dc9-4531-8016-88fe83a872cd",
   "metadata": {},
   "outputs": [
    {
     "data": {
      "text/plain": [
       "array([  1,   2,   3, 111,   5,   6,   7,   8,   9,  10])"
      ]
     },
     "execution_count": 49,
     "metadata": {},
     "output_type": "execute_result"
    }
   ],
   "source": [
    "copy"
   ]
  },
  {
   "cell_type": "code",
   "execution_count": 50,
   "id": "43f9b4d9-fcbf-4be4-ab76-3f40cef51645",
   "metadata": {},
   "outputs": [
    {
     "data": {
      "text/plain": [
       "array([ 1,  2,  3,  4,  5,  6,  7,  8,  9, 10])"
      ]
     },
     "execution_count": 50,
     "metadata": {},
     "output_type": "execute_result"
    }
   ],
   "source": [
    "arr"
   ]
  },
  {
   "cell_type": "code",
   "execution_count": 56,
   "id": "f0cbcd55-a9fd-43c5-8bba-5acd2f4393d6",
   "metadata": {},
   "outputs": [
    {
     "data": {
      "text/plain": [
       "array([-1,  0,  1,  2,  3,  4,  5,  6,  7,  8])"
      ]
     },
     "execution_count": 56,
     "metadata": {},
     "output_type": "execute_result"
    }
   ],
   "source": [
    "# Math Capabilities of an array in NumPy\n",
    "arr - 2"
   ]
  },
  {
   "cell_type": "code",
   "execution_count": 57,
   "id": "09acb0c4-eea8-41cd-a071-012c25ee3ee2",
   "metadata": {},
   "outputs": [
    {
     "data": {
      "text/plain": [
       "array([ 3,  4,  5,  6,  7,  8,  9, 10, 11, 12])"
      ]
     },
     "execution_count": 57,
     "metadata": {},
     "output_type": "execute_result"
    }
   ],
   "source": [
    "arr + 2"
   ]
  },
  {
   "cell_type": "code",
   "execution_count": 58,
   "id": "a713a9e9-fb21-4e4b-a780-6ede2d4e1478",
   "metadata": {},
   "outputs": [
    {
     "data": {
      "text/plain": [
       "array([ 3,  6,  9, 12, 15, 18, 21, 24, 27, 30])"
      ]
     },
     "execution_count": 58,
     "metadata": {},
     "output_type": "execute_result"
    }
   ],
   "source": [
    "arr * 3"
   ]
  },
  {
   "cell_type": "code",
   "execution_count": 59,
   "id": "4bd55b11-09cb-41c6-8a3c-41372e881822",
   "metadata": {},
   "outputs": [
    {
     "data": {
      "text/plain": [
       "array([0.25, 0.5 , 0.75, 1.  , 1.25, 1.5 , 1.75, 2.  , 2.25, 2.5 ])"
      ]
     },
     "execution_count": 59,
     "metadata": {},
     "output_type": "execute_result"
    }
   ],
   "source": [
    "arr / 4"
   ]
  },
  {
   "cell_type": "code",
   "execution_count": 60,
   "id": "4088e12f-ae44-4ff5-a41b-7d0fc0666456",
   "metadata": {},
   "outputs": [
    {
     "data": {
      "text/plain": [
       "array([1, 2, 0, 1, 2, 0, 1, 2, 0, 1])"
      ]
     },
     "execution_count": 60,
     "metadata": {},
     "output_type": "execute_result"
    }
   ],
   "source": [
    "arr % 3"
   ]
  },
  {
   "cell_type": "code",
   "execution_count": 63,
   "id": "35707f60-64fd-4153-820c-ea0ef676b178",
   "metadata": {},
   "outputs": [
    {
     "data": {
      "text/plain": [
       "array([[ 2.2,  6.5,  9.7],\n",
       "       [ 4.5, 10.9,  9.3]])"
      ]
     },
     "execution_count": 63,
     "metadata": {},
     "output_type": "execute_result"
    }
   ],
   "source": [
    "# Sum of matrices\n",
    "a + b"
   ]
  },
  {
   "cell_type": "code",
   "execution_count": 64,
   "id": "65e31b78-bf6c-4f3a-8ff7-67b2538ded94",
   "metadata": {},
   "outputs": [
    {
     "data": {
      "text/plain": [
       "array([[[ 3.2,  8.5, 12.7],\n",
       "        [ 8.5, 15.9, 15.3]],\n",
       "\n",
       "       [[ 9.2, 14.5, 18.7],\n",
       "        [14.5, 21.9, 21.3]]])"
      ]
     },
     "execution_count": 64,
     "metadata": {},
     "output_type": "execute_result"
    }
   ],
   "source": [
    "a + b + c"
   ]
  },
  {
   "cell_type": "code",
   "execution_count": 65,
   "id": "61be0f84-75b4-4746-afc5-1bb2f2caee5d",
   "metadata": {},
   "outputs": [
    {
     "data": {
      "text/plain": [
       "array([  1,   4,   9,  16,  25,  36,  49,  64,  81, 100])"
      ]
     },
     "execution_count": 65,
     "metadata": {},
     "output_type": "execute_result"
    }
   ],
   "source": [
    "arr ** 2"
   ]
  },
  {
   "cell_type": "code",
   "execution_count": 69,
   "id": "f11f69c8-5805-44c4-a639-124d8c1ea7b2",
   "metadata": {},
   "outputs": [
    {
     "data": {
      "text/plain": [
       "array([ 0.84147098,  0.90929743,  0.14112001, -0.7568025 , -0.95892427,\n",
       "       -0.2794155 ,  0.6569866 ,  0.98935825,  0.41211849, -0.54402111])"
      ]
     },
     "execution_count": 69,
     "metadata": {},
     "output_type": "execute_result"
    }
   ],
   "source": [
    "# Take the sine, cosine and other trigonometric funcitons of all the elements in an array\n",
    "np.sin(arr)"
   ]
  },
  {
   "cell_type": "code",
   "execution_count": 70,
   "id": "953f1d8b-e05c-4f42-afb4-151027ed82f3",
   "metadata": {},
   "outputs": [
    {
     "data": {
      "text/plain": [
       "array([ 0.54030231, -0.41614684, -0.9899925 , -0.65364362,  0.28366219,\n",
       "        0.96017029,  0.75390225, -0.14550003, -0.91113026, -0.83907153])"
      ]
     },
     "execution_count": 70,
     "metadata": {},
     "output_type": "execute_result"
    }
   ],
   "source": [
    "np.cos(arr)"
   ]
  },
  {
   "cell_type": "code",
   "execution_count": 71,
   "id": "93f490e2-a0f9-4b81-b59d-3213b321c026",
   "metadata": {},
   "outputs": [],
   "source": [
    "d = np.ones((2,3))"
   ]
  },
  {
   "cell_type": "code",
   "execution_count": 72,
   "id": "9bac6231-9aba-408a-be9a-5f05514a5b5f",
   "metadata": {},
   "outputs": [
    {
     "data": {
      "text/plain": [
       "array([[1., 1., 1.],\n",
       "       [1., 1., 1.]])"
      ]
     },
     "execution_count": 72,
     "metadata": {},
     "output_type": "execute_result"
    }
   ],
   "source": [
    "d"
   ]
  },
  {
   "cell_type": "code",
   "execution_count": 73,
   "id": "5892fe20-2de6-4a58-95bb-be3c62783f35",
   "metadata": {},
   "outputs": [],
   "source": [
    "e = np.full((3,2), 2)"
   ]
  },
  {
   "cell_type": "code",
   "execution_count": 74,
   "id": "105ea9b8-9229-4b11-83e4-ea57c4591e07",
   "metadata": {},
   "outputs": [
    {
     "data": {
      "text/plain": [
       "array([[2, 2],\n",
       "       [2, 2],\n",
       "       [2, 2]])"
      ]
     },
     "execution_count": 74,
     "metadata": {},
     "output_type": "execute_result"
    }
   ],
   "source": [
    "e"
   ]
  },
  {
   "cell_type": "code",
   "execution_count": 76,
   "id": "4c782ab1-6961-4df4-bc7e-14ed4e005fff",
   "metadata": {},
   "outputs": [
    {
     "data": {
      "text/plain": [
       "array([[ 1.2,  9. , 20.1],\n",
       "       [ 3.5, 17.8, 18.9]])"
      ]
     },
     "execution_count": 76,
     "metadata": {},
     "output_type": "execute_result"
    }
   ],
   "source": [
    "a * b"
   ]
  },
  {
   "cell_type": "code",
   "execution_count": 80,
   "id": "cea74447-a243-4e7b-ac65-eb3bb57a788b",
   "metadata": {},
   "outputs": [
    {
     "data": {
      "text/plain": [
       "array([[6., 6.],\n",
       "       [6., 6.]])"
      ]
     },
     "execution_count": 80,
     "metadata": {},
     "output_type": "execute_result"
    }
   ],
   "source": [
    "# For Matrix Multiplication (Linear Algebra)\n",
    "np.matmul(d,e)"
   ]
  },
  {
   "cell_type": "code",
   "execution_count": 81,
   "id": "55d55bd8-dff4-47db-bafd-7387cd864c1c",
   "metadata": {},
   "outputs": [],
   "source": [
    "matrix = np.identity(2)"
   ]
  },
  {
   "cell_type": "code",
   "execution_count": 82,
   "id": "1427c3f0-07a9-4725-8065-8bf3f8f40ee9",
   "metadata": {},
   "outputs": [
    {
     "data": {
      "text/plain": [
       "array([[1., 0.],\n",
       "       [0., 1.]])"
      ]
     },
     "execution_count": 82,
     "metadata": {},
     "output_type": "execute_result"
    }
   ],
   "source": [
    "matrix"
   ]
  },
  {
   "cell_type": "code",
   "execution_count": 83,
   "id": "0c0fbb91-7bc7-4f45-9404-89c4ea0168e7",
   "metadata": {},
   "outputs": [
    {
     "data": {
      "text/plain": [
       "np.float64(1.0)"
      ]
     },
     "execution_count": 83,
     "metadata": {},
     "output_type": "execute_result"
    }
   ],
   "source": [
    "np.linalg.det(matrix)"
   ]
  },
  {
   "cell_type": "code",
   "execution_count": 85,
   "id": "c9637382-5ded-4765-bd6c-a447d211552a",
   "metadata": {},
   "outputs": [
    {
     "name": "stdout",
     "output_type": "stream",
     "text": [
      "[[1 2 3]\n",
      " [4 5 7]]\n"
     ]
    }
   ],
   "source": [
    "# Statistics\n",
    "stats = np.array([[1,2,3],[4,5,7]])\n",
    "print(stats)"
   ]
  },
  {
   "cell_type": "code",
   "execution_count": 89,
   "id": "d6f3d45d-1bfd-4274-aa78-87c2de7b89fb",
   "metadata": {},
   "outputs": [
    {
     "data": {
      "text/plain": [
       "np.int64(7)"
      ]
     },
     "execution_count": 89,
     "metadata": {},
     "output_type": "execute_result"
    }
   ],
   "source": [
    "# Finding min and max\n",
    "np.max(stats)"
   ]
  },
  {
   "cell_type": "code",
   "execution_count": 90,
   "id": "69d58dc8-8c4e-426c-a80f-88f1e8b17002",
   "metadata": {},
   "outputs": [
    {
     "data": {
      "text/plain": [
       "np.int64(1)"
      ]
     },
     "execution_count": 90,
     "metadata": {},
     "output_type": "execute_result"
    }
   ],
   "source": [
    "np.min(stats)"
   ]
  },
  {
   "cell_type": "code",
   "execution_count": 91,
   "id": "a32a00c8-dbe0-4512-981e-79163e6036cb",
   "metadata": {},
   "outputs": [
    {
     "data": {
      "text/plain": [
       "array([3, 7])"
      ]
     },
     "execution_count": 91,
     "metadata": {},
     "output_type": "execute_result"
    }
   ],
   "source": [
    "# Finding the min and max on the axis = 1\n",
    "np.max(stats, axis=1)"
   ]
  },
  {
   "cell_type": "code",
   "execution_count": 92,
   "id": "f27a8e24-68c2-4869-8a40-63f87d56d3c5",
   "metadata": {},
   "outputs": [
    {
     "data": {
      "text/plain": [
       "array([1, 4])"
      ]
     },
     "execution_count": 92,
     "metadata": {},
     "output_type": "execute_result"
    }
   ],
   "source": [
    "np.min(stats, axis=1)"
   ]
  },
  {
   "cell_type": "code",
   "execution_count": 93,
   "id": "d1916762-7e50-4d52-a8a4-81d6a1b8db11",
   "metadata": {},
   "outputs": [
    {
     "data": {
      "text/plain": [
       "array([ 6, 16])"
      ]
     },
     "execution_count": 93,
     "metadata": {},
     "output_type": "execute_result"
    }
   ],
   "source": [
    "np.sum(stats, axis=1)"
   ]
  },
  {
   "cell_type": "code",
   "execution_count": 2,
   "id": "51d5fb9f-cc5e-447f-92e3-914f2fa68e59",
   "metadata": {},
   "outputs": [
    {
     "name": "stdout",
     "output_type": "stream",
     "text": [
      "[[1 2 3 4]\n",
      " [5 6 7 8]]\n"
     ]
    }
   ],
   "source": [
    "# Reorganizing An Array\n",
    "before = np.array([[1,2,3,4],[5,6,7,8]])\n",
    "print(before)"
   ]
  },
  {
   "cell_type": "code",
   "execution_count": 3,
   "id": "5fc0505e-3be4-42b6-98a3-159ab1f0e618",
   "metadata": {},
   "outputs": [
    {
     "name": "stdout",
     "output_type": "stream",
     "text": [
      "[[1 2]\n",
      " [3 4]\n",
      " [5 6]\n",
      " [7 8]]\n"
     ]
    }
   ],
   "source": [
    "after = before.reshape((4,2))\n",
    "print(after)"
   ]
  },
  {
   "cell_type": "code",
   "execution_count": 4,
   "id": "bac91b5b-e30f-45f2-940e-c4aa8113e78c",
   "metadata": {},
   "outputs": [
    {
     "data": {
      "text/plain": [
       "array([[1, 2, 3, 4],\n",
       "       [5, 6, 7, 8]])"
      ]
     },
     "execution_count": 4,
     "metadata": {},
     "output_type": "execute_result"
    }
   ],
   "source": [
    "# Vertically Stacking Vectors\n",
    "v1 = np.array([1,2,3,4])\n",
    "v2 = np.array([5,6,7,8])\n",
    "\n",
    "np.vstack([v1,v2])"
   ]
  },
  {
   "cell_type": "code",
   "execution_count": 5,
   "id": "a9071bea-6bb1-428d-b9a7-aa978b0e4e9a",
   "metadata": {},
   "outputs": [
    {
     "data": {
      "text/plain": [
       "array([1, 2, 3, 4])"
      ]
     },
     "execution_count": 5,
     "metadata": {},
     "output_type": "execute_result"
    }
   ],
   "source": [
    "v1"
   ]
  },
  {
   "cell_type": "code",
   "execution_count": 6,
   "id": "121cca77-ba63-46ea-b4b5-fa0c643641f0",
   "metadata": {},
   "outputs": [
    {
     "data": {
      "text/plain": [
       "array([5, 6, 7, 8])"
      ]
     },
     "execution_count": 6,
     "metadata": {},
     "output_type": "execute_result"
    }
   ],
   "source": [
    "v2"
   ]
  },
  {
   "cell_type": "code",
   "execution_count": 8,
   "id": "55ba780a-40ce-4b01-bdb5-69521c5215ee",
   "metadata": {},
   "outputs": [
    {
     "data": {
      "text/plain": [
       "array([1, 2, 3, 4, 5, 6, 7, 8])"
      ]
     },
     "execution_count": 8,
     "metadata": {},
     "output_type": "execute_result"
    }
   ],
   "source": [
    "# Horizontally Stacking Vectors\n",
    "np.hstack((v1,v2))"
   ]
  },
  {
   "cell_type": "code",
   "execution_count": 16,
   "id": "3948ac37-8315-4fd0-a312-268ea1c1bc0e",
   "metadata": {},
   "outputs": [],
   "source": [
    "# Load Data From File\n",
    "filedata = np.genfromtxt('data.txt', delimiter=',')"
   ]
  },
  {
   "cell_type": "code",
   "execution_count": 17,
   "id": "9072dc72-d1fa-461f-abed-14f8b17f7ae5",
   "metadata": {},
   "outputs": [
    {
     "name": "stdout",
     "output_type": "stream",
     "text": [
      "[[  1.  13.  21.  11. 196.  75.   4.   3.  34.   6.   7.   8.   0.   1.\n",
      "    2.   3.   4.   5.]\n",
      " [  3.  42.  12.  33. 766.  75.   4.  55.   6.   4.   3.   4.   5.   6.\n",
      "    7.   0.  11.  12.]\n",
      " [  1.  22.  33.  11. 999.  11.   2.   1.  78.   0.   1.   2.   9.   8.\n",
      "    7.   1.  76.  88.]]\n"
     ]
    }
   ],
   "source": [
    "print(filedata)"
   ]
  },
  {
   "cell_type": "code",
   "execution_count": 22,
   "id": "c2f3a523-dfb2-47d3-95e1-23425f2e94bf",
   "metadata": {},
   "outputs": [
    {
     "name": "stdout",
     "output_type": "stream",
     "text": [
      "[[  1  13  21  11 196  75   4   3  34   6   7   8   0   1   2   3   4   5]\n",
      " [  3  42  12  33 766  75   4  55   6   4   3   4   5   6   7   0  11  12]\n",
      " [  1  22  33  11 999  11   2   1  78   0   1   2   9   8   7   1  76  88]]\n"
     ]
    }
   ],
   "source": [
    "# Changing the data type of the file\n",
    "filedata = filedata.astype('int32')\n",
    "print(filedata)"
   ]
  },
  {
   "cell_type": "code",
   "execution_count": 24,
   "id": "cdb94538-ac3e-47cd-bf9f-665f470c7b50",
   "metadata": {},
   "outputs": [
    {
     "data": {
      "text/plain": [
       "array([[False, False, False, False,  True,  True, False, False,  True,\n",
       "        False, False, False, False, False, False, False, False, False],\n",
       "       [False,  True, False,  True,  True,  True, False,  True, False,\n",
       "        False, False, False, False, False, False, False, False, False],\n",
       "       [False, False,  True, False,  True, False, False, False,  True,\n",
       "        False, False, False, False, False, False, False,  True,  True]])"
      ]
     },
     "execution_count": 24,
     "metadata": {},
     "output_type": "execute_result"
    }
   ],
   "source": [
    "# Get boolean values for certain condition on data inside the file\n",
    "filedata > 30"
   ]
  },
  {
   "cell_type": "code",
   "execution_count": 25,
   "id": "f19cb53d-702e-4e72-b1aa-9d04e2389222",
   "metadata": {},
   "outputs": [
    {
     "data": {
      "text/plain": [
       "array([196,  75,  34,  42,  33, 766,  75,  55,  33, 999,  78,  76,  88],\n",
       "      dtype=int32)"
      ]
     },
     "execution_count": 25,
     "metadata": {},
     "output_type": "execute_result"
    }
   ],
   "source": [
    "# Get the data satisfying the condition\n",
    "filedata[filedata > 30]"
   ]
  },
  {
   "cell_type": "code",
   "execution_count": 26,
   "id": "fe98fb54-5d97-4c0a-96ad-92bb25ea86ca",
   "metadata": {},
   "outputs": [
    {
     "name": "stdout",
     "output_type": "stream",
     "text": [
      "[ 1  2  3  4  5  6 10  7  8  9]\n"
     ]
    }
   ],
   "source": [
    "# We can index with a list\n",
    "array = np.array([1,2,3,4,5,6,10,7,8,9])\n",
    "print(array)"
   ]
  },
  {
   "cell_type": "code",
   "execution_count": 27,
   "id": "d3602538-21ae-4b5c-8d5b-8528bf9834f0",
   "metadata": {},
   "outputs": [
    {
     "data": {
      "text/plain": [
       "array([ 3,  5, 10])"
      ]
     },
     "execution_count": 27,
     "metadata": {},
     "output_type": "execute_result"
    }
   ],
   "source": [
    "array[[2,4,6]]"
   ]
  },
  {
   "cell_type": "code",
   "execution_count": 30,
   "id": "87f95ed4-9b62-4c26-9ca7-23126410a15a",
   "metadata": {},
   "outputs": [
    {
     "data": {
      "text/plain": [
       "array([False, False, False, False,  True,  True, False,  True,  True,\n",
       "       False, False, False, False, False, False, False,  True,  True])"
      ]
     },
     "execution_count": 30,
     "metadata": {},
     "output_type": "execute_result"
    }
   ],
   "source": [
    "# Check column-wise if any value > 50\n",
    "np.any(filedata > 50, axis=0)"
   ]
  },
  {
   "cell_type": "code",
   "execution_count": null,
   "id": "470ffb87-7a8c-4d68-a7fa-2fad8b37650b",
   "metadata": {},
   "outputs": [],
   "source": [
    "# Check column-wise if all values > 50\n",
    "np.all(filedata > 50, axis=0)"
   ]
  },
  {
   "cell_type": "code",
   "execution_count": 33,
   "id": "813e8acc-4a8f-44ed-9057-b374a36a4615",
   "metadata": {},
   "outputs": [
    {
     "data": {
      "text/plain": [
       "array([[False, False, False, False, False,  True, False, False, False,\n",
       "        False, False, False, False, False, False, False, False, False],\n",
       "       [False, False, False, False, False,  True, False,  True, False,\n",
       "        False, False, False, False, False, False, False, False, False],\n",
       "       [False, False, False, False, False, False, False, False,  True,\n",
       "        False, False, False, False, False, False, False,  True,  True]])"
      ]
     },
     "execution_count": 33,
     "metadata": {},
     "output_type": "execute_result"
    }
   ],
   "source": [
    "# Check values to satisfy a range\n",
    "((filedata > 50) & (filedata < 100))"
   ]
  },
  {
   "cell_type": "code",
   "execution_count": 38,
   "id": "aef1cd10-1b74-42d5-9373-3588cc8ffce5",
   "metadata": {},
   "outputs": [
    {
     "name": "stdout",
     "output_type": "stream",
     "text": [
      "[[ 1  2  3  4  5]\n",
      " [ 6  7  8  9 10]\n",
      " [11 12 13 14 15]\n",
      " [16 17 18 19 20]\n",
      " [21 22 23 24 25]\n",
      " [26 27 28 29 30]]\n"
     ]
    }
   ],
   "source": [
    "# Indexing\n",
    "mat = np.array([[1,2,3,4,5],[6,7,8,9,10],[11,12,13,14,15],[16,17,18,19,20],[21,22,23,24,25],[26,27,28,29,30]])\n",
    "print(mat)"
   ]
  },
  {
   "cell_type": "code",
   "execution_count": 39,
   "id": "c2c744e4-c286-4cea-bde9-d575463a5b2f",
   "metadata": {},
   "outputs": [
    {
     "data": {
      "text/plain": [
       "array([[11, 12],\n",
       "       [16, 17]])"
      ]
     },
     "execution_count": 39,
     "metadata": {},
     "output_type": "execute_result"
    }
   ],
   "source": [
    "mat[2:4,0:2]"
   ]
  },
  {
   "cell_type": "code",
   "execution_count": 40,
   "id": "60712eeb-aa93-48a1-bedd-ebb226811bf0",
   "metadata": {},
   "outputs": [
    {
     "data": {
      "text/plain": [
       "array([ 2,  8, 14, 20])"
      ]
     },
     "execution_count": 40,
     "metadata": {},
     "output_type": "execute_result"
    }
   ],
   "source": [
    "mat[[0,1,2,3],[1,2,3,4]]"
   ]
  },
  {
   "cell_type": "code",
   "execution_count": 41,
   "id": "9a968ec0-7e43-44c6-bae0-9e9295c1da8f",
   "metadata": {},
   "outputs": [
    {
     "data": {
      "text/plain": [
       "array([[ 4,  5],\n",
       "       [24, 25],\n",
       "       [29, 30]])"
      ]
     },
     "execution_count": 41,
     "metadata": {},
     "output_type": "execute_result"
    }
   ],
   "source": [
    "mat[[0,4,5],3:]"
   ]
  },
  {
   "cell_type": "markdown",
   "id": "efa8005a-2289-4dd9-9561-6a4bef359410",
   "metadata": {
    "jp-MarkdownHeadingCollapsed": true
   },
   "source": [
    "# Let's Practice"
   ]
  },
  {
   "cell_type": "code",
   "execution_count": 1,
   "id": "09223e73-288e-4e70-a660-44aede61b8e8",
   "metadata": {},
   "outputs": [],
   "source": [
    "import numpy as np"
   ]
  },
  {
   "cell_type": "code",
   "execution_count": 2,
   "id": "4d191bf1-6922-46df-a6c9-35f21c80eff5",
   "metadata": {},
   "outputs": [
    {
     "name": "stdout",
     "output_type": "stream",
     "text": [
      "[[1 2 3]\n",
      " [4 5 6]\n",
      " [7 8 9]]\n"
     ]
    }
   ],
   "source": [
    "# Creating an numpy array\n",
    "arr = np.array([[1,2,3],[4,5,6],[7,8,9]])\n",
    "print(arr)"
   ]
  },
  {
   "cell_type": "code",
   "execution_count": 3,
   "id": "a2a54f6a-5542-4405-beeb-51d4bfc001ea",
   "metadata": {},
   "outputs": [
    {
     "name": "stdout",
     "output_type": "stream",
     "text": [
      "2\n"
     ]
    }
   ],
   "source": [
    "# Using ndarray.ndim -> The number of axes (dimensions) of the array\n",
    "print(arr.ndim)"
   ]
  },
  {
   "cell_type": "code",
   "execution_count": 4,
   "id": "a52e8514-002a-4acb-a74b-89e2c47a8535",
   "metadata": {},
   "outputs": [
    {
     "name": "stdout",
     "output_type": "stream",
     "text": [
      "(3, 3)\n"
     ]
    }
   ],
   "source": [
    "# Using ndarray.shape -> The size of the array in each dimension\n",
    "print(arr.shape)"
   ]
  },
  {
   "cell_type": "code",
   "execution_count": 5,
   "id": "bd64d540-26be-4765-be89-f845a4311330",
   "metadata": {},
   "outputs": [
    {
     "name": "stdout",
     "output_type": "stream",
     "text": [
      "9\n"
     ]
    }
   ],
   "source": [
    "# Using ndarray.size -> The total number of elements in the array\n",
    "print(arr.size)"
   ]
  },
  {
   "cell_type": "code",
   "execution_count": 6,
   "id": "91f24d2a-d9b0-4c99-81e8-beb9bcabd1a3",
   "metadata": {},
   "outputs": [
    {
     "name": "stdout",
     "output_type": "stream",
     "text": [
      "int64\n"
     ]
    }
   ],
   "source": [
    "# Using ndarray.dtype -> The data type of the elements inside the array\n",
    "print(arr.dtype)"
   ]
  },
  {
   "cell_type": "code",
   "execution_count": 7,
   "id": "5a6e3fd4-b414-483d-8a61-e6f19afc9da3",
   "metadata": {},
   "outputs": [],
   "source": [
    "# Change data type of the array\n",
    "arr.dtype = 'int32'"
   ]
  },
  {
   "cell_type": "code",
   "execution_count": 13,
   "id": "9d32b0a4-837b-49c5-9aef-67508268a8bb",
   "metadata": {},
   "outputs": [
    {
     "name": "stdout",
     "output_type": "stream",
     "text": [
      "int32\n"
     ]
    }
   ],
   "source": [
    "print(arr.dtype)"
   ]
  },
  {
   "cell_type": "code",
   "execution_count": 14,
   "id": "28f48701-6fdd-40ae-bd60-aed6bebc62b3",
   "metadata": {},
   "outputs": [
    {
     "name": "stdout",
     "output_type": "stream",
     "text": [
      "4\n"
     ]
    }
   ],
   "source": [
    "# Using ndarray.itemsize -> The size in bytes of each element of the array\n",
    "print(arr.itemsize)"
   ]
  },
  {
   "cell_type": "code",
   "execution_count": 10,
   "id": "5ae879f5-0fa0-417f-ba94-3681ce09ee8b",
   "metadata": {},
   "outputs": [
    {
     "name": "stdout",
     "output_type": "stream",
     "text": [
      "<memory at 0x1069a6c20>\n"
     ]
    }
   ],
   "source": [
    "# Using ndarray.data -> The buffer containing the actual elements of the array (Not much used)\n",
    "print(arr.data)"
   ]
  },
  {
   "cell_type": "code",
   "execution_count": 18,
   "id": "3d205b88-3914-4c87-8bca-efb1c921d33e",
   "metadata": {},
   "outputs": [
    {
     "data": {
      "text/plain": [
       "array([[1, 0, 2, 0, 3, 0],\n",
       "       [4, 0, 5, 0, 6, 0],\n",
       "       [7, 0, 8, 0, 9, 0]], dtype=int32)"
      ]
     },
     "execution_count": 18,
     "metadata": {},
     "output_type": "execute_result"
    }
   ],
   "source": [
    "arr"
   ]
  },
  {
   "cell_type": "code",
   "execution_count": 19,
   "id": "bf5d2743-948f-428c-a60c-04d098eef545",
   "metadata": {},
   "outputs": [],
   "source": [
    "arr = np.array([[1,2,3],[4,5,6],[7,8,9]])"
   ]
  },
  {
   "cell_type": "code",
   "execution_count": 20,
   "id": "c8003aef-0211-4828-adaf-a578d5c1d209",
   "metadata": {},
   "outputs": [
    {
     "name": "stdout",
     "output_type": "stream",
     "text": [
      "[[1 2 3]\n",
      " [4 5 6]\n",
      " [7 8 9]]\n"
     ]
    }
   ],
   "source": [
    "print(arr)"
   ]
  },
  {
   "cell_type": "code",
   "execution_count": 21,
   "id": "807bbec4-c187-452b-94bf-bd6fad9b56ce",
   "metadata": {},
   "outputs": [
    {
     "name": "stdout",
     "output_type": "stream",
     "text": [
      "72\n"
     ]
    }
   ],
   "source": [
    "# Getting the total size of array in bytes = size of array * size of each element in bytes\n",
    "print(arr.size * arr.itemsize)"
   ]
  },
  {
   "cell_type": "code",
   "execution_count": 23,
   "id": "894eb3be-9993-4791-84a3-a2fe4715bdb1",
   "metadata": {},
   "outputs": [
    {
     "data": {
      "text/plain": [
       "8"
      ]
     },
     "execution_count": 23,
     "metadata": {},
     "output_type": "execute_result"
    }
   ],
   "source": [
    "arr.itemsize"
   ]
  },
  {
   "cell_type": "code",
   "execution_count": 24,
   "id": "562c4903-345f-4cd1-b1ce-6ab6d48c643c",
   "metadata": {},
   "outputs": [
    {
     "name": "stdout",
     "output_type": "stream",
     "text": [
      "[[1.+0.j 2.+0.j 3.+0.j]\n",
      " [4.+0.j 5.+0.j 6.+0.j]\n",
      " [7.+0.j 8.+0.j 9.+0.j]]\n"
     ]
    }
   ],
   "source": [
    "# Changing the data type of an array explicitly at the time of creation\n",
    "a = np.array([[1,2,3],[4,5,6],[7,8,9]], dtype='complex')\n",
    "print(a)"
   ]
  },
  {
   "cell_type": "code",
   "execution_count": 45,
   "id": "abe1e124-6fec-4942-a5b4-994d206858f5",
   "metadata": {},
   "outputs": [],
   "source": [
    "# Note - array method transforms sequences of sequences into two-dimensional arrays, \n",
    "# sequences of sequences of sequences into three-dimensional arrays, and so on."
   ]
  },
  {
   "cell_type": "code",
   "execution_count": 27,
   "id": "c72363f8-f3c0-4102-8c69-1e55efb5c669",
   "metadata": {},
   "outputs": [
    {
     "name": "stdout",
     "output_type": "stream",
     "text": [
      "(3, 3)\n"
     ]
    }
   ],
   "source": [
    "b = np.array([(1,2,3),(4,5,6),(7,8,9)])\n",
    "print(b.shape)"
   ]
  },
  {
   "cell_type": "code",
   "execution_count": 28,
   "id": "7dd19d13-f56f-4ff6-a117-cc1254ed8fa3",
   "metadata": {},
   "outputs": [
    {
     "name": "stdout",
     "output_type": "stream",
     "text": [
      "[[0. 0. 0.]\n",
      " [0. 0. 0.]]\n"
     ]
    }
   ],
   "source": [
    "# Using ndarray.zeros((n,m)) -> Creates an array with all elements 0s of dimensions (m,n)\n",
    "c = np.zeros((2,3))\n",
    "print(c)"
   ]
  },
  {
   "cell_type": "code",
   "execution_count": 29,
   "id": "48b42611-c6b5-43e3-a2e9-c179e57d2fa7",
   "metadata": {},
   "outputs": [
    {
     "name": "stdout",
     "output_type": "stream",
     "text": [
      "[[1. 1. 1.]\n",
      " [1. 1. 1.]]\n"
     ]
    }
   ],
   "source": [
    "# Using ndarray.ones((n,m)) -> Creates an array with all elements 1s of dimensions (m,n)\n",
    "d = np.ones((2,3))\n",
    "print(d)"
   ]
  },
  {
   "cell_type": "code",
   "execution_count": 42,
   "id": "da021e75-9d04-49c0-be01-e30a62e1a024",
   "metadata": {},
   "outputs": [
    {
     "data": {
      "text/plain": [
       "array([[0.        , 0.        , 0.4472136 , 0.0531494 , 0.18257419],\n",
       "       [0.4472136 , 0.2125976 , 0.36514837, 0.4472136 , 0.4783446 ],\n",
       "       [0.54772256, 0.4472136 , 0.85039041, 0.73029674, 0.4472136 ]])"
      ]
     },
     "execution_count": 42,
     "metadata": {},
     "output_type": "execute_result"
    }
   ],
   "source": [
    "# Using ndarray.empty((n,m)) -> Creates an array with random valued elements of dimensions (m,n)\n",
    "np.empty((3,5))"
   ]
  },
  {
   "cell_type": "code",
   "execution_count": 43,
   "id": "aa9dfa31-e903-4dd9-9b3b-0aa7b0c07302",
   "metadata": {},
   "outputs": [
    {
     "data": {
      "text/plain": [
       "array([10, 15, 20, 25, 30, 35, 40])"
      ]
     },
     "execution_count": 43,
     "metadata": {},
     "output_type": "execute_result"
    }
   ],
   "source": [
    "# Using np.arange(start, end (excluded), stepsize) -> To create sequences of numbers\n",
    "np.arange(10,45,5)"
   ]
  },
  {
   "cell_type": "code",
   "execution_count": 44,
   "id": "be05f1fc-cc43-455f-ab4f-60b0cb4dc872",
   "metadata": {},
   "outputs": [],
   "source": [
    "# Note - np.arange() is not recommended in case of float values due to number restrictions\n",
    "# Thus we use np.linspace(start, end(excluded), total_elements_needed)"
   ]
  },
  {
   "cell_type": "code",
   "execution_count": 46,
   "id": "9707bd47-2457-4006-a20d-8f72197e97f2",
   "metadata": {},
   "outputs": [
    {
     "data": {
      "text/plain": [
       "array([10.        , 15.71428571, 21.42857143, 27.14285714, 32.85714286,\n",
       "       38.57142857, 44.28571429, 50.        ])"
      ]
     },
     "execution_count": 46,
     "metadata": {},
     "output_type": "execute_result"
    }
   ],
   "source": [
    "np.linspace(10,50,8)"
   ]
  },
  {
   "cell_type": "code",
   "execution_count": 10,
   "id": "da7ce518-e355-4d88-8b86-5e3a23e06847",
   "metadata": {},
   "outputs": [],
   "source": [
    "# Using reshape((m,n)) -> Reshapes an existing array into (m,n) array\n",
    "arr = np.arange(1000).reshape((10,100))"
   ]
  },
  {
   "cell_type": "code",
   "execution_count": 12,
   "id": "1e75f6b5-0385-4042-a8d8-43f872b61136",
   "metadata": {},
   "outputs": [],
   "source": [
    "# Note - If an array is too large to be printed, NumPy automatically skips the central part of the array and only prints the corners\n",
    "# To disable this behaviour and force NumPy to print the entire array -> (a) import sys module\n",
    "# (b) np.set_printoptions(threshold=sys.maxsize)"
   ]
  },
  {
   "cell_type": "code",
   "execution_count": 13,
   "id": "7839c8b7-d12c-4384-b5a4-d9ad7e9a032c",
   "metadata": {},
   "outputs": [],
   "source": [
    "# Matrix Operations\n",
    "a = np.array([[1,2,3],[5,6,7],[9,8,4]])"
   ]
  },
  {
   "cell_type": "code",
   "execution_count": 14,
   "id": "e7f66ce6-6d84-4ec5-9233-5e95b56d9785",
   "metadata": {},
   "outputs": [],
   "source": [
    "b = np.array([[2,5,1],[4,8,6],[3,9,7]])"
   ]
  },
  {
   "cell_type": "code",
   "execution_count": 15,
   "id": "1b815146-3f6e-4852-80b2-7a3f20a99bc3",
   "metadata": {},
   "outputs": [
    {
     "name": "stdout",
     "output_type": "stream",
     "text": [
      "[[1 2 3]\n",
      " [5 6 7]\n",
      " [9 8 4]]\n",
      "[[2 5 1]\n",
      " [4 8 6]\n",
      " [3 9 7]]\n"
     ]
    }
   ],
   "source": [
    "print(a)\n",
    "print(b)"
   ]
  },
  {
   "cell_type": "code",
   "execution_count": 17,
   "id": "5a298c6f-2632-4c1a-b2a3-4a4a67ad7165",
   "metadata": {},
   "outputs": [
    {
     "name": "stdout",
     "output_type": "stream",
     "text": [
      "[[ 3  4  5]\n",
      " [ 7  8  9]\n",
      " [11 10  6]]\n"
     ]
    }
   ],
   "source": [
    "# Arithmetic Operations on a single matrix\n",
    "print(a + 2)"
   ]
  },
  {
   "cell_type": "code",
   "execution_count": 18,
   "id": "6979f6f7-16e3-44c7-9f1e-e429229b7e4c",
   "metadata": {},
   "outputs": [
    {
     "name": "stdout",
     "output_type": "stream",
     "text": [
      "[[-2 -1  0]\n",
      " [ 2  3  4]\n",
      " [ 6  5  1]]\n"
     ]
    }
   ],
   "source": [
    "print(a-3)"
   ]
  },
  {
   "cell_type": "code",
   "execution_count": 19,
   "id": "448a4cff-c6ad-4c3d-8f1a-e861d4ae6080",
   "metadata": {},
   "outputs": [
    {
     "name": "stdout",
     "output_type": "stream",
     "text": [
      "[[ 6 15  3]\n",
      " [12 24 18]\n",
      " [ 9 27 21]]\n"
     ]
    }
   ],
   "source": [
    "print(b*3)"
   ]
  },
  {
   "cell_type": "code",
   "execution_count": 20,
   "id": "c49ea3ad-c12f-4bb3-bbde-9fc461d05b2b",
   "metadata": {},
   "outputs": [
    {
     "name": "stdout",
     "output_type": "stream",
     "text": [
      "[[0.4 1.  0.2]\n",
      " [0.8 1.6 1.2]\n",
      " [0.6 1.8 1.4]]\n"
     ]
    }
   ],
   "source": [
    "print(b/5)"
   ]
  },
  {
   "cell_type": "code",
   "execution_count": 21,
   "id": "ec4cf266-d4a9-4515-b29c-db6e53a27188",
   "metadata": {},
   "outputs": [
    {
     "name": "stdout",
     "output_type": "stream",
     "text": [
      "[[ 1  4  9]\n",
      " [25 36 49]\n",
      " [81 64 16]]\n"
     ]
    }
   ],
   "source": [
    "print(a**2)"
   ]
  },
  {
   "cell_type": "code",
   "execution_count": 22,
   "id": "bfc8c62e-5acf-497b-a887-f9177535b188",
   "metadata": {},
   "outputs": [
    {
     "name": "stdout",
     "output_type": "stream",
     "text": [
      "[[2 1 1]\n",
      " [0 0 2]\n",
      " [3 1 3]]\n"
     ]
    }
   ],
   "source": [
    "print(b%4)"
   ]
  },
  {
   "cell_type": "code",
   "execution_count": 23,
   "id": "523989a0-547b-4235-aa80-3f6786e744a5",
   "metadata": {},
   "outputs": [
    {
     "name": "stdout",
     "output_type": "stream",
     "text": [
      "[[ 3  7  4]\n",
      " [ 9 14 13]\n",
      " [12 17 11]]\n"
     ]
    }
   ],
   "source": [
    "# Arithmetic Operations on 2 matrices\n",
    "print(a+b)"
   ]
  },
  {
   "cell_type": "code",
   "execution_count": 24,
   "id": "1cbbb84c-a174-4fdb-9497-816b341fd0da",
   "metadata": {},
   "outputs": [
    {
     "name": "stdout",
     "output_type": "stream",
     "text": [
      "[[-1 -3  2]\n",
      " [ 1 -2  1]\n",
      " [ 6 -1 -3]]\n"
     ]
    }
   ],
   "source": [
    "print(a-b)"
   ]
  },
  {
   "cell_type": "code",
   "execution_count": 26,
   "id": "4230ac28-230b-4d4f-b155-6a4c0439d847",
   "metadata": {},
   "outputs": [
    {
     "name": "stdout",
     "output_type": "stream",
     "text": [
      "[[ 2 10  3]\n",
      " [20 48 42]\n",
      " [27 72 28]]\n"
     ]
    }
   ],
   "source": [
    "# Matrix elementwise product just like add and subtract\n",
    "print(a*b)"
   ]
  },
  {
   "cell_type": "code",
   "execution_count": 28,
   "id": "4d6cf8aa-8ac3-4298-90a8-d785550aa7a9",
   "metadata": {},
   "outputs": [
    {
     "name": "stdout",
     "output_type": "stream",
     "text": [
      "[[0.5        0.4        3.        ]\n",
      " [1.25       0.75       1.16666667]\n",
      " [3.         0.88888889 0.57142857]]\n"
     ]
    }
   ],
   "source": [
    "# Matrix elementwise division just like add, subtract and multiply\n",
    "print(a/b)"
   ]
  },
  {
   "cell_type": "code",
   "execution_count": 30,
   "id": "dcaa10b0-ae37-4eb9-ade3-4df69673d9e9",
   "metadata": {},
   "outputs": [
    {
     "name": "stdout",
     "output_type": "stream",
     "text": [
      "[[ 19  48  34]\n",
      " [ 55 136  90]\n",
      " [ 62 145  85]]\n"
     ]
    }
   ],
   "source": [
    "# Matrix multiplication (not elementwise) - Method 1\n",
    "print(a @ b)"
   ]
  },
  {
   "cell_type": "code",
   "execution_count": 69,
   "id": "8049686f-7455-4821-bb6c-860ef6507330",
   "metadata": {},
   "outputs": [
    {
     "name": "stdout",
     "output_type": "stream",
     "text": [
      "[[ 30.  36.  42.]\n",
      " [ 78.  96. 114.]\n",
      " [ 69.  90. 111.]]\n"
     ]
    }
   ],
   "source": [
    "# Matrix multiplication (not elementwise) - Method 2\n",
    "print(a.dot(b))"
   ]
  },
  {
   "cell_type": "code",
   "execution_count": 33,
   "id": "b2512b8e-66a3-4fec-a04c-deffbea8472a",
   "metadata": {},
   "outputs": [],
   "source": [
    "a *= 2"
   ]
  },
  {
   "cell_type": "code",
   "execution_count": 34,
   "id": "f237e1b8-a702-4434-82b4-a980544ed7d1",
   "metadata": {},
   "outputs": [
    {
     "data": {
      "text/plain": [
       "array([[ 2,  4,  6],\n",
       "       [10, 12, 14],\n",
       "       [18, 16,  8]])"
      ]
     },
     "execution_count": 34,
     "metadata": {},
     "output_type": "execute_result"
    }
   ],
   "source": [
    "a"
   ]
  },
  {
   "cell_type": "code",
   "execution_count": 35,
   "id": "16a873e5-f0dc-4f03-aff2-05fe8c187f58",
   "metadata": {},
   "outputs": [],
   "source": [
    "b -= 2"
   ]
  },
  {
   "cell_type": "code",
   "execution_count": 36,
   "id": "4510de3e-c86c-4182-9c7d-1d79730aa572",
   "metadata": {},
   "outputs": [
    {
     "data": {
      "text/plain": [
       "array([[ 0,  3, -1],\n",
       "       [ 2,  6,  4],\n",
       "       [ 1,  7,  5]])"
      ]
     },
     "execution_count": 36,
     "metadata": {},
     "output_type": "execute_result"
    }
   ],
   "source": [
    "b"
   ]
  },
  {
   "cell_type": "code",
   "execution_count": 37,
   "id": "f252dba5-8f69-4d3a-8a7e-b6911266f8ea",
   "metadata": {},
   "outputs": [],
   "source": [
    "b += a"
   ]
  },
  {
   "cell_type": "code",
   "execution_count": 38,
   "id": "ea48c67a-e326-4f6e-bcda-314aa658976f",
   "metadata": {},
   "outputs": [
    {
     "data": {
      "text/plain": [
       "array([[ 2,  7,  5],\n",
       "       [12, 18, 18],\n",
       "       [19, 23, 13]])"
      ]
     },
     "execution_count": 38,
     "metadata": {},
     "output_type": "execute_result"
    }
   ],
   "source": [
    "b"
   ]
  },
  {
   "cell_type": "code",
   "execution_count": 40,
   "id": "066992cf-e3f3-45a9-a5e3-6a76a4b73efd",
   "metadata": {},
   "outputs": [],
   "source": [
    "b %= 2"
   ]
  },
  {
   "cell_type": "code",
   "execution_count": 41,
   "id": "82e1ab97-251a-47ea-af5a-313bfcc2f431",
   "metadata": {},
   "outputs": [
    {
     "data": {
      "text/plain": [
       "array([[0, 1, 1],\n",
       "       [0, 0, 0],\n",
       "       [1, 1, 1]])"
      ]
     },
     "execution_count": 41,
     "metadata": {},
     "output_type": "execute_result"
    }
   ],
   "source": [
    "b"
   ]
  },
  {
   "cell_type": "code",
   "execution_count": 43,
   "id": "2d0a4de2-9896-425e-9561-e8766493f336",
   "metadata": {},
   "outputs": [
    {
     "name": "stdout",
     "output_type": "stream",
     "text": [
      "[[1. 2. 3.]\n",
      " [4. 5. 6.]\n",
      " [7. 8. 9.]]\n"
     ]
    }
   ],
   "source": [
    "b = np.array([[1,2,3],[4,5,6],[7,8,9]], dtype='float64')\n",
    "print(b)"
   ]
  },
  {
   "cell_type": "code",
   "execution_count": 44,
   "id": "5c2fe510-7d0d-4c5f-8c86-8a449077f554",
   "metadata": {},
   "outputs": [],
   "source": [
    "b /= 2"
   ]
  },
  {
   "cell_type": "code",
   "execution_count": 45,
   "id": "501555fb-3876-472f-b1ec-dbfb76514538",
   "metadata": {},
   "outputs": [
    {
     "data": {
      "text/plain": [
       "array([[0.5, 1. , 1.5],\n",
       "       [2. , 2.5, 3. ],\n",
       "       [3.5, 4. , 4.5]])"
      ]
     },
     "execution_count": 45,
     "metadata": {},
     "output_type": "execute_result"
    }
   ],
   "source": [
    "b"
   ]
  },
  {
   "cell_type": "code",
   "execution_count": 60,
   "id": "3dad3f10-954f-40c4-8ce5-1c3602b71dc0",
   "metadata": {},
   "outputs": [],
   "source": [
    "# Using random((m,n)) -> Creates an array of size (m,n) having random values\n",
    "rg = np.random.default_rng(3)\n",
    "array = rg.random((4,3))"
   ]
  },
  {
   "cell_type": "code",
   "execution_count": 61,
   "id": "e04092bc-d1b9-43f9-8ea7-0297b1836314",
   "metadata": {},
   "outputs": [
    {
     "data": {
      "text/plain": [
       "array([[0.08564917, 0.23681051, 0.80127447],\n",
       "       [0.58216204, 0.09412864, 0.43312694],\n",
       "       [0.4790513 , 0.15973891, 0.73457715],\n",
       "       [0.11367202, 0.39122819, 0.51674018]])"
      ]
     },
     "execution_count": 61,
     "metadata": {},
     "output_type": "execute_result"
    }
   ],
   "source": [
    "array"
   ]
  },
  {
   "cell_type": "code",
   "execution_count": 62,
   "id": "cd73a21f-6c32-4625-9bf0-30306b1854bc",
   "metadata": {},
   "outputs": [],
   "source": [
    "# Universal Functions\n",
    "A = np.array([[2,3,4],[1,6,5],[9,7,8]])"
   ]
  },
  {
   "cell_type": "code",
   "execution_count": 63,
   "id": "15243d90-ea44-4bb7-b954-ad96c394a0d1",
   "metadata": {},
   "outputs": [],
   "source": [
    "B = np.array([[10,16,17],[4,7,2],[18,9,11]])"
   ]
  },
  {
   "cell_type": "code",
   "execution_count": 64,
   "id": "1daebc1e-8161-40cb-b485-f8d29e6d969a",
   "metadata": {},
   "outputs": [
    {
     "data": {
      "text/plain": [
       "array([[ 0.90929743,  0.14112001, -0.7568025 ],\n",
       "       [ 0.84147098, -0.2794155 , -0.95892427],\n",
       "       [ 0.41211849,  0.6569866 ,  0.98935825]])"
      ]
     },
     "execution_count": 64,
     "metadata": {},
     "output_type": "execute_result"
    }
   ],
   "source": [
    "np.sin(A)"
   ]
  },
  {
   "cell_type": "code",
   "execution_count": 65,
   "id": "4c8a06a2-f169-4421-9b5c-1c7ef5af3038",
   "metadata": {},
   "outputs": [
    {
     "data": {
      "text/plain": [
       "array([[-0.83907153, -0.95765948, -0.27516334],\n",
       "       [-0.65364362,  0.75390225, -0.41614684],\n",
       "       [ 0.66031671, -0.91113026,  0.0044257 ]])"
      ]
     },
     "execution_count": 65,
     "metadata": {},
     "output_type": "execute_result"
    }
   ],
   "source": [
    "np.cos(B)"
   ]
  },
  {
   "cell_type": "code",
   "execution_count": 66,
   "id": "3a324ade-6762-4bcb-ab68-4bd4dfdd3991",
   "metadata": {},
   "outputs": [
    {
     "data": {
      "text/plain": [
       "array([[1.41421356, 1.73205081, 2.        ],\n",
       "       [1.        , 2.44948974, 2.23606798],\n",
       "       [3.        , 2.64575131, 2.82842712]])"
      ]
     },
     "execution_count": 66,
     "metadata": {},
     "output_type": "execute_result"
    }
   ],
   "source": [
    "np.sqrt(A)"
   ]
  },
  {
   "cell_type": "code",
   "execution_count": 67,
   "id": "2a9123e7-5f9f-407f-90a7-609d2170fe2b",
   "metadata": {},
   "outputs": [
    {
     "data": {
      "text/plain": [
       "array([[2.20264658e+04, 8.88611052e+06, 2.41549528e+07],\n",
       "       [5.45981500e+01, 1.09663316e+03, 7.38905610e+00],\n",
       "       [6.56599691e+07, 8.10308393e+03, 5.98741417e+04]])"
      ]
     },
     "execution_count": 67,
     "metadata": {},
     "output_type": "execute_result"
    }
   ],
   "source": [
    "np.exp(B)"
   ]
  },
  {
   "cell_type": "code",
   "execution_count": 68,
   "id": "0129390a-67f3-46d4-88ae-082e58e1e9e8",
   "metadata": {},
   "outputs": [
    {
     "data": {
      "text/plain": [
       "array([[12, 19, 21],\n",
       "       [ 5, 13,  7],\n",
       "       [27, 16, 19]])"
      ]
     },
     "execution_count": 68,
     "metadata": {},
     "output_type": "execute_result"
    }
   ],
   "source": [
    "np.add(A,B)"
   ]
  },
  {
   "cell_type": "code",
   "execution_count": 70,
   "id": "4b197ca3-fec6-4ba0-8701-ed45423e8140",
   "metadata": {},
   "outputs": [
    {
     "data": {
      "text/plain": [
       "np.int64(1)"
      ]
     },
     "execution_count": 70,
     "metadata": {},
     "output_type": "execute_result"
    }
   ],
   "source": [
    "np.min(A)"
   ]
  },
  {
   "cell_type": "code",
   "execution_count": 71,
   "id": "c86136fb-7dbc-48e9-a130-a6ac0e40314c",
   "metadata": {},
   "outputs": [
    {
     "data": {
      "text/plain": [
       "np.int64(18)"
      ]
     },
     "execution_count": 71,
     "metadata": {},
     "output_type": "execute_result"
    }
   ],
   "source": [
    "np.max(B)"
   ]
  },
  {
   "cell_type": "code",
   "execution_count": 73,
   "id": "81b1aec1-2524-4dda-ab17-503c58670c0a",
   "metadata": {},
   "outputs": [
    {
     "data": {
      "text/plain": [
       "array([[10, 16, 17],\n",
       "       [ 2,  4,  7],\n",
       "       [ 9, 11, 18]])"
      ]
     },
     "execution_count": 73,
     "metadata": {},
     "output_type": "execute_result"
    }
   ],
   "source": [
    "# Sorting every row\n",
    "np.sort(B)"
   ]
  },
  {
   "cell_type": "code",
   "execution_count": 74,
   "id": "c018c701-2eb4-495f-b923-442392e33acd",
   "metadata": {},
   "outputs": [
    {
     "data": {
      "text/plain": [
       "np.float64(5.0)"
      ]
     },
     "execution_count": 74,
     "metadata": {},
     "output_type": "execute_result"
    }
   ],
   "source": [
    "np.mean(A)"
   ]
  },
  {
   "cell_type": "code",
   "execution_count": 75,
   "id": "be848154-69fb-465b-ad02-ec7964ac40d4",
   "metadata": {},
   "outputs": [
    {
     "data": {
      "text/plain": [
       "np.float64(10.0)"
      ]
     },
     "execution_count": 75,
     "metadata": {},
     "output_type": "execute_result"
    }
   ],
   "source": [
    "np.median(B)"
   ]
  },
  {
   "cell_type": "code",
   "execution_count": 2,
   "id": "0491fd02-90e1-461a-88c5-60104be488ef",
   "metadata": {},
   "outputs": [],
   "source": [
    "arr = np.array([[1,2,3],[4,5,7],[6,8,9]])"
   ]
  },
  {
   "cell_type": "code",
   "execution_count": 3,
   "id": "68ad93c7-787c-40df-afdb-52840f29effb",
   "metadata": {},
   "outputs": [],
   "source": [
    "a = np.array([1,2,3,4,5,6,7,8,9,10])**2"
   ]
  },
  {
   "cell_type": "code",
   "execution_count": 4,
   "id": "4bc76fc8-0384-4033-a4f2-dc734060c458",
   "metadata": {},
   "outputs": [
    {
     "name": "stdout",
     "output_type": "stream",
     "text": [
      "[  1   4   9  16  25  36  49  64  81 100]\n"
     ]
    }
   ],
   "source": [
    "print(a)"
   ]
  },
  {
   "cell_type": "code",
   "execution_count": 16,
   "id": "52893206-a531-431b-9592-a45b1e6276be",
   "metadata": {},
   "outputs": [
    {
     "name": "stdout",
     "output_type": "stream",
     "text": [
      "1000\n",
      "4\n",
      "1000\n",
      "16\n",
      "1000\n",
      "36\n",
      "49\n",
      "64\n",
      "81\n",
      "100\n"
     ]
    }
   ],
   "source": [
    "# Printing the list\n",
    "for i in a:\n",
    "    print(i)"
   ]
  },
  {
   "cell_type": "code",
   "execution_count": 14,
   "id": "1d2d2d12-80a7-4646-8f8a-d3299e35f874",
   "metadata": {},
   "outputs": [
    {
     "name": "stdout",
     "output_type": "stream",
     "text": [
      "16\n"
     ]
    }
   ],
   "source": [
    "# Get a element of a list\n",
    "print(a[3])"
   ]
  },
  {
   "cell_type": "code",
   "execution_count": 13,
   "id": "7cb08b77-8831-4a2b-a5f2-b1f61d395c7e",
   "metadata": {},
   "outputs": [
    {
     "name": "stdout",
     "output_type": "stream",
     "text": [
      "[1000    4 1000   16]\n"
     ]
    }
   ],
   "source": [
    "# Get a range of elements\n",
    "print(a[0:4])"
   ]
  },
  {
   "cell_type": "code",
   "execution_count": 11,
   "id": "c505ea13-a2e7-45ab-9f24-9a4245806802",
   "metadata": {},
   "outputs": [],
   "source": [
    "# Changing every 2nd element to 1000 from index 0 to 6 excluding 6\n",
    "# Can also be done using in case of start index as 0 -> a[:6:2] = 1000\n",
    "a[0:6:2] = 1000"
   ]
  },
  {
   "cell_type": "code",
   "execution_count": 9,
   "id": "ea9d2f35-1d19-4e67-8f07-8327963df4e6",
   "metadata": {},
   "outputs": [
    {
     "name": "stdout",
     "output_type": "stream",
     "text": [
      "[1000    4 1000   16 1000   36   49   64   81  100]\n"
     ]
    }
   ],
   "source": [
    "print(a)"
   ]
  },
  {
   "cell_type": "code",
   "execution_count": 12,
   "id": "b2284ebd-32da-4c73-b784-73d793e177d6",
   "metadata": {},
   "outputs": [
    {
     "name": "stdout",
     "output_type": "stream",
     "text": [
      "[ 100   81   64   49   36 1000   16 1000    4 1000]\n"
     ]
    }
   ],
   "source": [
    "# Reverse of a list\n",
    "print(a[::-1])"
   ]
  },
  {
   "cell_type": "code",
   "execution_count": 17,
   "id": "934c3041-4f0a-49b8-83f1-a12282e9d0c3",
   "metadata": {},
   "outputs": [
    {
     "name": "stdout",
     "output_type": "stream",
     "text": [
      "7\n"
     ]
    }
   ],
   "source": [
    "# Get an element in a multidimensional array\n",
    "print(arr[1,2])"
   ]
  },
  {
   "cell_type": "code",
   "execution_count": 18,
   "id": "9b63308c-acfd-49f5-b935-b32c1a0b8649",
   "metadata": {},
   "outputs": [],
   "source": [
    "# We can assign the value to an index in an array\n",
    "arr[1,2] = 11"
   ]
  },
  {
   "cell_type": "code",
   "execution_count": 19,
   "id": "8446eaba-86a7-4bdb-a21c-722a85ec7550",
   "metadata": {},
   "outputs": [
    {
     "name": "stdout",
     "output_type": "stream",
     "text": [
      "[[ 1  2  3]\n",
      " [ 4  5 11]\n",
      " [ 6  8  9]]\n"
     ]
    }
   ],
   "source": [
    "print(arr)"
   ]
  },
  {
   "cell_type": "code",
   "execution_count": 23,
   "id": "f72e1d04-809b-45e8-9933-9452be9fa076",
   "metadata": {},
   "outputs": [
    {
     "name": "stdout",
     "output_type": "stream",
     "text": [
      "[2 5 8]\n"
     ]
    }
   ],
   "source": [
    "# Getting a column\n",
    "print(arr[:,1])"
   ]
  },
  {
   "cell_type": "code",
   "execution_count": 24,
   "id": "27b1db67-72f4-4df4-abba-e456bc436e0c",
   "metadata": {},
   "outputs": [
    {
     "name": "stdout",
     "output_type": "stream",
     "text": [
      "[ 3 11]\n"
     ]
    }
   ],
   "source": [
    "# Get column elements for specific rows\n",
    "print(arr[0:2,2])"
   ]
  },
  {
   "cell_type": "code",
   "execution_count": 26,
   "id": "fb8697e3-e149-46e0-91a3-54c5fa520fcc",
   "metadata": {},
   "outputs": [
    {
     "name": "stdout",
     "output_type": "stream",
     "text": [
      "[ 4  5 11]\n"
     ]
    }
   ],
   "source": [
    "# Get a row\n",
    "print(arr[1,:])"
   ]
  },
  {
   "cell_type": "code",
   "execution_count": 27,
   "id": "3d3aa175-ba91-40b5-adcc-17cb36889cf3",
   "metadata": {},
   "outputs": [
    {
     "name": "stdout",
     "output_type": "stream",
     "text": [
      "[8 9]\n"
     ]
    }
   ],
   "source": [
    "# Get rows for specific columns\n",
    "print(arr[2,1:3])"
   ]
  },
  {
   "cell_type": "code",
   "execution_count": 28,
   "id": "4864c67a-163b-49b9-86fd-e664f99497cc",
   "metadata": {},
   "outputs": [
    {
     "name": "stdout",
     "output_type": "stream",
     "text": [
      "[6 8 9]\n"
     ]
    }
   ],
   "source": [
    "# Get using negative index (Reverse indexing)\n",
    "print(arr[-1])"
   ]
  },
  {
   "cell_type": "code",
   "execution_count": 29,
   "id": "1850ffb1-00bb-43aa-a54e-c5f12339d572",
   "metadata": {},
   "outputs": [
    {
     "name": "stdout",
     "output_type": "stream",
     "text": [
      "[1 2 3]\n",
      "[ 4  5 11]\n",
      "[6 8 9]\n"
     ]
    }
   ],
   "source": [
    "# Iterating every row in a 2D array\n",
    "for row in arr:\n",
    "    print(row)"
   ]
  },
  {
   "cell_type": "code",
   "execution_count": 30,
   "id": "4792502e-5e4d-4936-b163-258f12c20bb3",
   "metadata": {},
   "outputs": [
    {
     "name": "stdout",
     "output_type": "stream",
     "text": [
      "1\n",
      "2\n",
      "3\n",
      "4\n",
      "5\n",
      "11\n",
      "6\n",
      "8\n",
      "9\n"
     ]
    }
   ],
   "source": [
    "# Iterating each element in a 2D array\n",
    "for element in arr.flat:\n",
    "    print(element)"
   ]
  },
  {
   "cell_type": "code",
   "execution_count": 33,
   "id": "c5fb5bb7-1904-4036-8af3-4f4f992c64a8",
   "metadata": {},
   "outputs": [],
   "source": [
    "# Here arr.flat makes the 2D array into a 1D array without permanently changing the array (Only used in case of iterations)"
   ]
  },
  {
   "cell_type": "code",
   "execution_count": 34,
   "id": "0184bdcb-507c-44a5-8827-5753ffc998a7",
   "metadata": {},
   "outputs": [
    {
     "name": "stdout",
     "output_type": "stream",
     "text": [
      "[[ 1  2  3]\n",
      " [ 4  5 11]\n",
      " [ 6  8  9]]\n"
     ]
    }
   ],
   "source": [
    "print(arr)"
   ]
  },
  {
   "cell_type": "code",
   "execution_count": 35,
   "id": "65bfe2b2-1e49-4a43-b89b-a0d5ebccc12a",
   "metadata": {},
   "outputs": [],
   "source": [
    "# We can do the iterations, indexing etc in 3D arrays by using the similar approach"
   ]
  },
  {
   "cell_type": "code",
   "execution_count": 37,
   "id": "621f59e5-48ef-42f8-9104-e1707a9453b0",
   "metadata": {},
   "outputs": [
    {
     "name": "stdout",
     "output_type": "stream",
     "text": [
      "(3, 3)\n"
     ]
    }
   ],
   "source": [
    "# Shape manipulation\n",
    "print(arr.shape)"
   ]
  },
  {
   "cell_type": "code",
   "execution_count": 42,
   "id": "0bef0953-98e3-4286-97c6-d92facaa1d41",
   "metadata": {},
   "outputs": [
    {
     "name": "stdout",
     "output_type": "stream",
     "text": [
      "[ 1  2  3  4  5 11  6  8  9]\n"
     ]
    }
   ],
   "source": [
    "# Makes n dimensional array into 1D array\n",
    "print(arr.ravel())"
   ]
  },
  {
   "cell_type": "code",
   "execution_count": 44,
   "id": "e73e0f5f-3804-49fb-b998-845c1da460d7",
   "metadata": {},
   "outputs": [
    {
     "data": {
      "text/plain": [
       "array([[ 1],\n",
       "       [ 2],\n",
       "       [ 3],\n",
       "       [ 4],\n",
       "       [ 5],\n",
       "       [11],\n",
       "       [ 6],\n",
       "       [ 8],\n",
       "       [ 9]])"
      ]
     },
     "execution_count": 44,
     "metadata": {},
     "output_type": "execute_result"
    }
   ],
   "source": [
    "# Reshaping the shape of array keeping in mind the number of elements in it\n",
    "arr.reshape((9,1))"
   ]
  },
  {
   "cell_type": "code",
   "execution_count": 45,
   "id": "2034e0b4-e6ea-4348-b61d-27f807f10c79",
   "metadata": {},
   "outputs": [
    {
     "name": "stdout",
     "output_type": "stream",
     "text": [
      "[[ 1  2  3]\n",
      " [ 4  5 11]\n",
      " [ 6  8  9]]\n"
     ]
    }
   ],
   "source": [
    "print(arr)"
   ]
  },
  {
   "cell_type": "code",
   "execution_count": 47,
   "id": "c0ff4f4f-2319-4b48-bbc0-7a56897b320a",
   "metadata": {},
   "outputs": [
    {
     "name": "stdout",
     "output_type": "stream",
     "text": [
      "[[ 1  4  6]\n",
      " [ 2  5  8]\n",
      " [ 3 11  9]]\n"
     ]
    }
   ],
   "source": [
    "# To get the transpose of the array\n",
    "print(arr.T)"
   ]
  },
  {
   "cell_type": "code",
   "execution_count": 49,
   "id": "417a25fe-87f6-4fd3-ab47-f7c9f4cdb3ca",
   "metadata": {},
   "outputs": [],
   "source": [
    "# If we need to change the shape of array permanently -> arr.resize((m,n))\n",
    "arr.resize((1,9))"
   ]
  },
  {
   "cell_type": "code",
   "execution_count": 50,
   "id": "9a8aa4b3-c7a1-4d91-b6e9-85b37597262c",
   "metadata": {},
   "outputs": [
    {
     "name": "stdout",
     "output_type": "stream",
     "text": [
      "[[ 1  2  3  4  5 11  6  8  9]]\n"
     ]
    }
   ],
   "source": [
    "print(arr)"
   ]
  },
  {
   "cell_type": "code",
   "execution_count": 53,
   "id": "b3027630-f38a-4d0d-9e54-6b1a479eadc9",
   "metadata": {},
   "outputs": [],
   "source": [
    "arr2 = np.array([7,3,7,9,5,2,8,5,10])"
   ]
  },
  {
   "cell_type": "code",
   "execution_count": 54,
   "id": "3ca4c3d3-f77d-4948-98cf-43d463283550",
   "metadata": {},
   "outputs": [
    {
     "name": "stdout",
     "output_type": "stream",
     "text": [
      "[ 7  3  7  9  5  2  8  5 10]\n"
     ]
    }
   ],
   "source": [
    "print(arr2)"
   ]
  },
  {
   "cell_type": "code",
   "execution_count": 58,
   "id": "8b20cfa8-02ca-4566-8e3f-be4a90dd481b",
   "metadata": {},
   "outputs": [
    {
     "name": "stdout",
     "output_type": "stream",
     "text": [
      "[[ 1  2  3  4  5 11  6  8  9]\n",
      " [ 7  3  7  9  5  2  8  5 10]]\n"
     ]
    }
   ],
   "source": [
    "# Vertically stacking the arrays\n",
    "print(np.vstack((arr, arr2)))"
   ]
  },
  {
   "cell_type": "code",
   "execution_count": 60,
   "id": "e05fcf89-5f42-4282-b40d-387070f88a29",
   "metadata": {},
   "outputs": [
    {
     "name": "stdout",
     "output_type": "stream",
     "text": [
      "[[ 1  2  3  4  5 11  6  8  9]]\n"
     ]
    }
   ],
   "source": [
    "print(arr)"
   ]
  },
  {
   "cell_type": "code",
   "execution_count": 62,
   "id": "3f94fa38-1b56-4d59-aa0c-3e78e953c805",
   "metadata": {},
   "outputs": [],
   "source": [
    "arr3 = np.array([1,2,3,4,5,6,7,8,9])"
   ]
  },
  {
   "cell_type": "code",
   "execution_count": 67,
   "id": "670ac28b-5ad8-46ec-9bfa-5865909b0f0d",
   "metadata": {},
   "outputs": [
    {
     "name": "stdout",
     "output_type": "stream",
     "text": [
      "[ 1  2  3  4  5  6  7  8  9  7  3  7  9  5  2  8  5 10]\n"
     ]
    }
   ],
   "source": [
    "# Horizontally stacking the arrays (1D)\n",
    "print(np.hstack((arr3, arr2)))"
   ]
  },
  {
   "cell_type": "code",
   "execution_count": 68,
   "id": "0f42e44e-ab42-4b10-93c6-cd2718f08552",
   "metadata": {},
   "outputs": [],
   "source": [
    "arr4 = np.array([[1,2,3,4,5,6,7,8,9]])"
   ]
  },
  {
   "cell_type": "code",
   "execution_count": 69,
   "id": "ebf4f3d8-f116-455b-a8e1-b6630c4ae679",
   "metadata": {},
   "outputs": [
    {
     "data": {
      "text/plain": [
       "array([[ 1,  2,  3,  4,  5, 11,  6,  8,  9,  1,  2,  3,  4,  5,  6,  7,\n",
       "         8,  9]])"
      ]
     },
     "execution_count": 69,
     "metadata": {},
     "output_type": "execute_result"
    }
   ],
   "source": [
    "# Horizontally stacking the arrays (2D)\n",
    "np.column_stack((arr, arr4))"
   ]
  },
  {
   "cell_type": "code",
   "execution_count": 70,
   "id": "46fcad38-cec8-4951-9e67-650d282cbd5c",
   "metadata": {},
   "outputs": [],
   "source": [
    "a = np.array([[1, 2], [3, 4]])"
   ]
  },
  {
   "cell_type": "code",
   "execution_count": 71,
   "id": "43f80436-96f3-464e-8f19-68dd002d752a",
   "metadata": {},
   "outputs": [],
   "source": [
    "b = np.array([[5, 6]])"
   ]
  },
  {
   "cell_type": "code",
   "execution_count": 78,
   "id": "9b9448d8-91b3-41a2-a110-307aca5d8c40",
   "metadata": {},
   "outputs": [
    {
     "name": "stdout",
     "output_type": "stream",
     "text": [
      "[[1 2]\n",
      " [3 4]\n",
      " [5 6]]\n"
     ]
    }
   ],
   "source": [
    "# Concatenate 2 arrays on the basis of axis (Here axis = 0 means vertically)\n",
    "# Here number of rows must be same\n",
    "print(np.concatenate((a, b), axis=0)) "
   ]
  },
  {
   "cell_type": "code",
   "execution_count": 79,
   "id": "63a3aa58-b762-49d5-9cbb-e4c66380247b",
   "metadata": {},
   "outputs": [
    {
     "name": "stdout",
     "output_type": "stream",
     "text": [
      "[[1 2 5]\n",
      " [3 4 6]]\n"
     ]
    }
   ],
   "source": [
    "# Concatenate 2 arrays on the basis of axis (Here axis = 1 means horizontally)\n",
    "# Here number of rows must be same\n",
    "print(np.concatenate((a,b.T),axis=1))"
   ]
  },
  {
   "cell_type": "code",
   "execution_count": 81,
   "id": "557f27e1-97f4-432d-9302-7352842480e5",
   "metadata": {},
   "outputs": [
    {
     "name": "stdout",
     "output_type": "stream",
     "text": [
      "[[ 1  2  3  4  5 11  6  8  9]]\n"
     ]
    }
   ],
   "source": [
    "print(arr)"
   ]
  },
  {
   "cell_type": "code",
   "execution_count": 87,
   "id": "b35fec98-9dee-41ae-ba10-5eb2d8088eb5",
   "metadata": {},
   "outputs": [
    {
     "name": "stdout",
     "output_type": "stream",
     "text": [
      "[array([[1, 2, 3]]), array([[ 4,  5, 11]]), array([[6, 8, 9]])]\n"
     ]
    }
   ],
   "source": [
    "# Using np.hsplit(array_name, number) to split array into number of arrays horizontally\n",
    "print(np.hsplit(arr,3))"
   ]
  },
  {
   "cell_type": "code",
   "execution_count": 88,
   "id": "fbef8a2a-6b2d-44ef-b8b5-30a89f1821e1",
   "metadata": {},
   "outputs": [
    {
     "name": "stdout",
     "output_type": "stream",
     "text": [
      "[array([[1, 2, 3]]), array([[4, 5]]), array([[11,  6,  8,  9]])]\n"
     ]
    }
   ],
   "source": [
    "# Specifying from where to split\n",
    "print(np.hsplit(arr,(3,5)))"
   ]
  },
  {
   "cell_type": "code",
   "execution_count": 89,
   "id": "e94b78a9-b288-40d6-8430-f009cdb676e2",
   "metadata": {},
   "outputs": [
    {
     "name": "stdout",
     "output_type": "stream",
     "text": [
      "[array([[1, 2]]), array([[ 3,  4,  5, 11]]), array([[6, 8, 9]])]\n"
     ]
    }
   ],
   "source": [
    "print(np.hsplit(arr,(2,6)))"
   ]
  },
  {
   "cell_type": "code",
   "execution_count": 96,
   "id": "15b5946c-7179-4202-82cb-3122a44480c7",
   "metadata": {},
   "outputs": [
    {
     "name": "stdout",
     "output_type": "stream",
     "text": [
      "[[ 0.  1.  2.  3.]\n",
      " [ 4.  5.  6.  7.]\n",
      " [ 8.  9. 10. 11.]\n",
      " [12. 13. 14. 15.]]\n"
     ]
    }
   ],
   "source": [
    "# Using np.vsplit(array_name, number) to split array into number of arrays vertically\n",
    "x = np.arange(16.0).reshape(4, 4)\n",
    "print(x)"
   ]
  },
  {
   "cell_type": "code",
   "execution_count": 97,
   "id": "725934a2-657d-4d7b-bdd4-7c3b48838647",
   "metadata": {},
   "outputs": [
    {
     "name": "stdout",
     "output_type": "stream",
     "text": [
      "[array([[0., 1., 2., 3.],\n",
      "       [4., 5., 6., 7.]]), array([[ 8.,  9., 10., 11.],\n",
      "       [12., 13., 14., 15.]])]\n"
     ]
    }
   ],
   "source": [
    "print(np.vsplit(x, 2))"
   ]
  },
  {
   "cell_type": "code",
   "execution_count": 111,
   "id": "0224c352-a178-4356-9df0-b5e53c7b0a45",
   "metadata": {},
   "outputs": [],
   "source": [
    "# Note - We can also use np.split() for doing the same things above but by providing the axis\n",
    "c = np.arange(9)"
   ]
  },
  {
   "cell_type": "code",
   "execution_count": 112,
   "id": "ebe83f4a-6361-43c8-94c9-7b4177a10983",
   "metadata": {},
   "outputs": [
    {
     "name": "stdout",
     "output_type": "stream",
     "text": [
      "[0 1 2 3 4 5 6 7 8]\n"
     ]
    }
   ],
   "source": [
    "print(c)"
   ]
  },
  {
   "cell_type": "code",
   "execution_count": 114,
   "id": "80d26c4e-b10a-4852-a31d-ec744bf57b53",
   "metadata": {},
   "outputs": [
    {
     "data": {
      "text/plain": [
       "[array([0, 1, 2]), array([3, 4, 5]), array([6, 7, 8])]"
      ]
     },
     "execution_count": 114,
     "metadata": {},
     "output_type": "execute_result"
    }
   ],
   "source": [
    "np.split(c, 3)"
   ]
  },
  {
   "cell_type": "code",
   "execution_count": 118,
   "id": "9cab6088-3300-4c94-bc62-20cefc898688",
   "metadata": {},
   "outputs": [
    {
     "data": {
      "text/plain": [
       "array([[0],\n",
       "       [1],\n",
       "       [2],\n",
       "       [3],\n",
       "       [4],\n",
       "       [5],\n",
       "       [6],\n",
       "       [7],\n",
       "       [8]])"
      ]
     },
     "execution_count": 118,
     "metadata": {},
     "output_type": "execute_result"
    }
   ],
   "source": [
    "c.reshape((9,1))"
   ]
  },
  {
   "cell_type": "code",
   "execution_count": 119,
   "id": "ed8a7616-dd71-4dbe-8860-13999fce0787",
   "metadata": {},
   "outputs": [
    {
     "data": {
      "text/plain": [
       "[array([0, 1, 2]), array([3, 4, 5]), array([6, 7, 8])]"
      ]
     },
     "execution_count": 119,
     "metadata": {},
     "output_type": "execute_result"
    }
   ],
   "source": [
    "np.split(c, 3)"
   ]
  },
  {
   "cell_type": "code",
   "execution_count": 2,
   "id": "053402d1-1d06-4ab4-93b1-a662fc3349af",
   "metadata": {},
   "outputs": [],
   "source": [
    "arr = np.array([[1,2,3],[4,5,6],[7,8,9]])"
   ]
  },
  {
   "cell_type": "code",
   "execution_count": 3,
   "id": "16bfc96a-1fb7-44a0-93e5-ee6979fb8c78",
   "metadata": {},
   "outputs": [
    {
     "name": "stdout",
     "output_type": "stream",
     "text": [
      "[[1 2 3]\n",
      " [4 5 6]\n",
      " [7 8 9]]\n"
     ]
    }
   ],
   "source": [
    "print(arr)"
   ]
  },
  {
   "cell_type": "code",
   "execution_count": 16,
   "id": "c2f47f04-1f1c-481d-bbe2-986714f4e621",
   "metadata": {},
   "outputs": [],
   "source": [
    "# Creating a shallow copy of an array\n",
    "c = arr.view()"
   ]
  },
  {
   "cell_type": "code",
   "execution_count": 6,
   "id": "5f89d1f6-f559-4629-9dfa-ee6ea04343e9",
   "metadata": {},
   "outputs": [
    {
     "name": "stdout",
     "output_type": "stream",
     "text": [
      "[[1 2 3]\n",
      " [4 5 6]\n",
      " [7 8 9]]\n"
     ]
    }
   ],
   "source": [
    "print(c)"
   ]
  },
  {
   "cell_type": "code",
   "execution_count": 17,
   "id": "571848de-35a4-4fc2-a97f-edf668d31c3e",
   "metadata": {},
   "outputs": [
    {
     "data": {
      "text/plain": [
       "False"
      ]
     },
     "execution_count": 17,
     "metadata": {},
     "output_type": "execute_result"
    }
   ],
   "source": [
    "# c is not equal to arr\n",
    "c is arr"
   ]
  },
  {
   "cell_type": "code",
   "execution_count": 18,
   "id": "c3499d7e-0774-409b-bd39-da7c7e8546a3",
   "metadata": {},
   "outputs": [
    {
     "data": {
      "text/plain": [
       "True"
      ]
     },
     "execution_count": 18,
     "metadata": {},
     "output_type": "execute_result"
    }
   ],
   "source": [
    "# c is the view of an array named arr\n",
    "c.base is arr"
   ]
  },
  {
   "cell_type": "code",
   "execution_count": 19,
   "id": "d2ec4429-b691-4dd8-beeb-8d814236c5b7",
   "metadata": {},
   "outputs": [
    {
     "data": {
      "text/plain": [
       "False"
      ]
     },
     "execution_count": 19,
     "metadata": {},
     "output_type": "execute_result"
    }
   ],
   "source": [
    "# Does it have it's own data\n",
    "c.flags.owndata"
   ]
  },
  {
   "cell_type": "code",
   "execution_count": 20,
   "id": "7c656722-7ffe-44b0-bca4-8d32f8982579",
   "metadata": {},
   "outputs": [],
   "source": [
    "# Changing the shape of c doesn't change the shape of arr\n",
    "c = c.reshape((9,1))"
   ]
  },
  {
   "cell_type": "code",
   "execution_count": 12,
   "id": "8c77750e-6136-4e42-9180-8580a806cb87",
   "metadata": {},
   "outputs": [
    {
     "name": "stdout",
     "output_type": "stream",
     "text": [
      "[[1]\n",
      " [2]\n",
      " [3]\n",
      " [4]\n",
      " [5]\n",
      " [6]\n",
      " [7]\n",
      " [8]\n",
      " [9]]\n"
     ]
    }
   ],
   "source": [
    "print(c)"
   ]
  },
  {
   "cell_type": "code",
   "execution_count": 13,
   "id": "0cd64235-32ac-4336-bfac-9fdeac83195d",
   "metadata": {},
   "outputs": [
    {
     "name": "stdout",
     "output_type": "stream",
     "text": [
      "[[1 2 3]\n",
      " [4 5 6]\n",
      " [7 8 9]]\n"
     ]
    }
   ],
   "source": [
    "print(arr)"
   ]
  },
  {
   "cell_type": "code",
   "execution_count": 21,
   "id": "4d3a1379-d69e-402f-afd6-2c0dd19cac04",
   "metadata": {},
   "outputs": [],
   "source": [
    "# Alteration of elements in c changes it in arr\n",
    "c[0,0] = 10"
   ]
  },
  {
   "cell_type": "code",
   "execution_count": 15,
   "id": "55c3d75b-e130-432a-9f7f-684d7a606fc4",
   "metadata": {},
   "outputs": [
    {
     "name": "stdout",
     "output_type": "stream",
     "text": [
      "[[10  2  3]\n",
      " [ 4  5  6]\n",
      " [ 7  8  9]]\n"
     ]
    }
   ],
   "source": [
    "print(arr)"
   ]
  },
  {
   "cell_type": "code",
   "execution_count": 22,
   "id": "1460d2d5-9dcc-4e44-8b6c-13bffef56dd1",
   "metadata": {},
   "outputs": [],
   "source": [
    "# Creating deep copy of the arr\n",
    "d = arr.copy()"
   ]
  },
  {
   "cell_type": "code",
   "execution_count": 23,
   "id": "ff1b0b1f-93c1-46ed-82eb-dd16bf53ee0d",
   "metadata": {},
   "outputs": [
    {
     "name": "stdout",
     "output_type": "stream",
     "text": [
      "[[10  2  3]\n",
      " [ 4  5  6]\n",
      " [ 7  8  9]]\n"
     ]
    }
   ],
   "source": [
    "print(d)"
   ]
  },
  {
   "cell_type": "code",
   "execution_count": 25,
   "id": "eff1ce3c-e69f-42dc-9bf7-4bf49c458a75",
   "metadata": {},
   "outputs": [
    {
     "data": {
      "text/plain": [
       "False"
      ]
     },
     "execution_count": 25,
     "metadata": {},
     "output_type": "execute_result"
    }
   ],
   "source": [
    "# d is not equal to arr\n",
    "d is arr"
   ]
  },
  {
   "cell_type": "code",
   "execution_count": 26,
   "id": "0cc64236-4894-4381-974b-51844cea3209",
   "metadata": {},
   "outputs": [
    {
     "data": {
      "text/plain": [
       "False"
      ]
     },
     "execution_count": 26,
     "metadata": {},
     "output_type": "execute_result"
    }
   ],
   "source": [
    "# d doesn't share anything with arr\n",
    "d.base is arr"
   ]
  },
  {
   "cell_type": "code",
   "execution_count": 27,
   "id": "79e60bdd-4316-4003-a5ca-308370fc23f6",
   "metadata": {},
   "outputs": [
    {
     "name": "stdout",
     "output_type": "stream",
     "text": [
      "[[999   2   3]\n",
      " [  4   5   6]\n",
      " [  7   8   9]]\n"
     ]
    }
   ],
   "source": [
    "# Alteration of elements of d aren't reflected in arr\n",
    "d[0,0] = 999\n",
    "print(d)"
   ]
  },
  {
   "cell_type": "code",
   "execution_count": 28,
   "id": "d032c51d-7207-4866-a252-7262c554160c",
   "metadata": {},
   "outputs": [
    {
     "name": "stdout",
     "output_type": "stream",
     "text": [
      "[[10  2  3]\n",
      " [ 4  5  6]\n",
      " [ 7  8  9]]\n"
     ]
    }
   ],
   "source": [
    "print(arr)"
   ]
  },
  {
   "cell_type": "code",
   "execution_count": 29,
   "id": "3a6fc2b4-3dc4-4804-b291-a89a79661bf8",
   "metadata": {},
   "outputs": [
    {
     "name": "stdout",
     "output_type": "stream",
     "text": [
      "[   0    1    8   27   64  125  216  343  512  729 1000 1331]\n"
     ]
    }
   ],
   "source": [
    "# Indexing with array of indices\n",
    "a = np.arange(12)**3\n",
    "print(a)"
   ]
  },
  {
   "cell_type": "code",
   "execution_count": 30,
   "id": "5fa50eb6-8cac-4b91-9e1a-db6310ee9fc9",
   "metadata": {},
   "outputs": [
    {
     "name": "stdout",
     "output_type": "stream",
     "text": [
      "[0 5 2 9 4]\n"
     ]
    }
   ],
   "source": [
    "# Array of indices\n",
    "i = np.array([0, 5, 2, 9, 4])\n",
    "print(i)"
   ]
  },
  {
   "cell_type": "code",
   "execution_count": 32,
   "id": "f90da8ae-039a-436e-a361-abea98abb5ee",
   "metadata": {},
   "outputs": [
    {
     "name": "stdout",
     "output_type": "stream",
     "text": [
      "[  0 125   8 729  64]\n"
     ]
    }
   ],
   "source": [
    "# Indexing with array of indices\n",
    "print(a[i])"
   ]
  },
  {
   "cell_type": "code",
   "execution_count": 33,
   "id": "17be1796-3235-4150-99fb-ed53e3e00104",
   "metadata": {},
   "outputs": [
    {
     "name": "stdout",
     "output_type": "stream",
     "text": [
      "[[ 5  1]\n",
      " [10  4]]\n"
     ]
    }
   ],
   "source": [
    "# Using 2D Array for the same thing\n",
    "j = np.array([[5, 1], [10, 4]])\n",
    "print(j)"
   ]
  },
  {
   "cell_type": "code",
   "execution_count": 34,
   "id": "a7109623-ed31-4763-985e-ea14802a60a3",
   "metadata": {},
   "outputs": [
    {
     "name": "stdout",
     "output_type": "stream",
     "text": [
      "[[ 125    1]\n",
      " [1000   64]]\n"
     ]
    }
   ],
   "source": [
    "print(a[j])"
   ]
  },
  {
   "cell_type": "code",
   "execution_count": 35,
   "id": "3ce9a52c-1a16-424b-87bf-d9db324d8d08",
   "metadata": {},
   "outputs": [],
   "source": [
    "a = np.arange(12).reshape(3, 4)"
   ]
  },
  {
   "cell_type": "code",
   "execution_count": 36,
   "id": "8c991168-5827-47db-899e-c29a9fd98f49",
   "metadata": {},
   "outputs": [
    {
     "name": "stdout",
     "output_type": "stream",
     "text": [
      "[[ 0  1  2  3]\n",
      " [ 4  5  6  7]\n",
      " [ 8  9 10 11]]\n"
     ]
    }
   ],
   "source": [
    "print(a)"
   ]
  },
  {
   "cell_type": "code",
   "execution_count": 38,
   "id": "abf6c484-67e1-45ef-a359-1ff71b8981bd",
   "metadata": {},
   "outputs": [],
   "source": [
    "i = np.array([[0, 1],[1, 2]])"
   ]
  },
  {
   "cell_type": "code",
   "execution_count": 39,
   "id": "3f6eb01e-c0b9-4c0a-a562-6d9834b0cb41",
   "metadata": {},
   "outputs": [],
   "source": [
    "j = np.array([[2, 1],[3, 3]])"
   ]
  },
  {
   "cell_type": "code",
   "execution_count": 40,
   "id": "6ef4f89c-1886-4b85-91f8-7be50b16aa59",
   "metadata": {},
   "outputs": [],
   "source": [
    "# Using a tuple of indices to index an array\n",
    "l = (i,j)"
   ]
  },
  {
   "cell_type": "code",
   "execution_count": 41,
   "id": "957d2110-d555-4b93-b2ed-1436b970e78f",
   "metadata": {},
   "outputs": [
    {
     "name": "stdout",
     "output_type": "stream",
     "text": [
      "[[ 2  5]\n",
      " [ 7 11]]\n"
     ]
    }
   ],
   "source": [
    "print(a[l])"
   ]
  },
  {
   "cell_type": "code",
   "execution_count": 42,
   "id": "f3b9070a-792a-4620-b947-5ca1e601ad08",
   "metadata": {},
   "outputs": [],
   "source": [
    "# The End of Practicing the basics"
   ]
  }
 ],
 "metadata": {
  "kernelspec": {
   "display_name": "Python 3 (ipykernel)",
   "language": "python",
   "name": "python3"
  },
  "language_info": {
   "codemirror_mode": {
    "name": "ipython",
    "version": 3
   },
   "file_extension": ".py",
   "mimetype": "text/x-python",
   "name": "python",
   "nbconvert_exporter": "python",
   "pygments_lexer": "ipython3",
   "version": "3.12.4"
  }
 },
 "nbformat": 4,
 "nbformat_minor": 5
}
